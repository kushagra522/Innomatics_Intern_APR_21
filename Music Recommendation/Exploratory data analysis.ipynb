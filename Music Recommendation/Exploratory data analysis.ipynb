{
 "cells": [
  {
   "cell_type": "markdown",
   "metadata": {},
   "source": [
    "# Exploratory Data Analysis"
   ]
  },
  {
   "cell_type": "code",
   "execution_count": 1,
   "metadata": {},
   "outputs": [],
   "source": [
    "## importing all necessary libraries\n",
    "import pandas as pd\n",
    "import numpy as np\n",
    "import seaborn as sns\n",
    "import matplotlib.pyplot as plt\n",
    "import warnings\n",
    "warnings.filterwarnings('ignore')"
   ]
  },
  {
   "cell_type": "code",
   "execution_count": 2,
   "metadata": {},
   "outputs": [],
   "source": [
    "##read text file.\n",
    "data = pd.read_table('kaggle_visible_evaluation_triplets.txt', header = None)\n",
    "## reanming column names.\n",
    "data.columns = ['user_id', 'song_id', 'freq'] \n",
    "\n",
    "## reading text file\n",
    "data_2 = pd.read_table('unique_tracks.txt', sep = '<SEP>',header = None)\n",
    "## changing column names.\n",
    "data_2.columns = ['track_id', 'song_id', 'artist_name','release'] \n",
    "\n",
    "## reading text file.\n",
    "data_3 = pd.read_csv('taste_profile_song_to_tracks.txt',sep = '<\\t>',header = None)\n",
    "## renaming column names.\n",
    "data_3.columns = ['song_to_tracks'] \n",
    "data_3['Songs'],data_3['tracks'] = data_3['song_to_tracks'].str.split('\\t',1).str\n",
    "del data_3['song_to_tracks']\n",
    "\n",
    "## reading text file.\n",
    "data_4 = pd.read_table('kaggle_songs.txt',header = None)\n",
    "## renaming column name\n",
    "data_4.columns = ['songs'] \n",
    "data_4['Songs'],data_4['id'] = data_4['songs'].str.split(' ',1).str\n",
    "del data_4['songs']\n",
    "\n",
    "## reading text file.\n",
    "data_5 = pd.read_table('kaggle_users.txt', sep = '<SEP>',header = None)\n",
    "## renaming column names.\n",
    "data_5.columns = ['user_id'] \n",
    "\n",
    "\n",
    "data_6 = pd.merge(data,data_5,on = 'user_id')\n",
    "### merging two dataframes(data_3 and data_4)\n",
    "\n",
    "data_7 = pd.merge(data_3,data_4,on = 'Songs')\n",
    "\n",
    "dataframe = pd.merge(data_6,data_2,how ='left',on ='song_id')\n"
   ]
  },
  {
   "cell_type": "markdown",
   "metadata": {},
   "source": [
    "## Exploratory Data Analysis"
   ]
  },
  {
   "cell_type": "code",
   "execution_count": 17,
   "metadata": {
    "scrolled": true
   },
   "outputs": [
    {
     "data": {
      "text/html": [
       "<div>\n",
       "<style scoped>\n",
       "    .dataframe tbody tr th:only-of-type {\n",
       "        vertical-align: middle;\n",
       "    }\n",
       "\n",
       "    .dataframe tbody tr th {\n",
       "        vertical-align: top;\n",
       "    }\n",
       "\n",
       "    .dataframe thead th {\n",
       "        text-align: right;\n",
       "    }\n",
       "</style>\n",
       "<table border=\"1\" class=\"dataframe\">\n",
       "  <thead>\n",
       "    <tr style=\"text-align: right;\">\n",
       "      <th></th>\n",
       "      <th>track_id</th>\n",
       "      <th>song_id</th>\n",
       "      <th>artist_name</th>\n",
       "      <th>release</th>\n",
       "    </tr>\n",
       "  </thead>\n",
       "  <tbody>\n",
       "    <tr>\n",
       "      <td>0</td>\n",
       "      <td>TRMMMYQ128F932D901</td>\n",
       "      <td>SOQMMHC12AB0180CB8</td>\n",
       "      <td>Faster Pussy cat</td>\n",
       "      <td>Silent Night</td>\n",
       "    </tr>\n",
       "    <tr>\n",
       "      <td>1</td>\n",
       "      <td>TRMMMKD128F425225D</td>\n",
       "      <td>SOVFVAK12A8C1350D9</td>\n",
       "      <td>Karkkiautomaatti</td>\n",
       "      <td>Tanssi vaan</td>\n",
       "    </tr>\n",
       "    <tr>\n",
       "      <td>2</td>\n",
       "      <td>TRMMMRX128F93187D9</td>\n",
       "      <td>SOGTUKN12AB017F4F1</td>\n",
       "      <td>Hudson Mohawke</td>\n",
       "      <td>No One Could Ever</td>\n",
       "    </tr>\n",
       "    <tr>\n",
       "      <td>3</td>\n",
       "      <td>TRMMMCH128F425532C</td>\n",
       "      <td>SOBNYVR12A8C13558C</td>\n",
       "      <td>Yerba Brava</td>\n",
       "      <td>Si Vos QuerÃ©s</td>\n",
       "    </tr>\n",
       "    <tr>\n",
       "      <td>4</td>\n",
       "      <td>TRMMMWA128F426B589</td>\n",
       "      <td>SOHSBXH12A8C13B0DF</td>\n",
       "      <td>Der Mystic</td>\n",
       "      <td>Tangle Of Aspens</td>\n",
       "    </tr>\n",
       "    <tr>\n",
       "      <td>...</td>\n",
       "      <td>...</td>\n",
       "      <td>...</td>\n",
       "      <td>...</td>\n",
       "      <td>...</td>\n",
       "    </tr>\n",
       "    <tr>\n",
       "      <td>999995</td>\n",
       "      <td>TRYYYUS12903CD2DF0</td>\n",
       "      <td>SOTXAME12AB018F136</td>\n",
       "      <td>Kiko Navarro</td>\n",
       "      <td>O Samba Da Vida</td>\n",
       "    </tr>\n",
       "    <tr>\n",
       "      <td>999996</td>\n",
       "      <td>TRYYYJO128F426DA37</td>\n",
       "      <td>SOXQYIQ12A8C137FBB</td>\n",
       "      <td>Kuldeep Manak</td>\n",
       "      <td>Jago Chhadeo</td>\n",
       "    </tr>\n",
       "    <tr>\n",
       "      <td>999997</td>\n",
       "      <td>TRYYYMG128F4260ECA</td>\n",
       "      <td>SOHODZI12A8C137BB3</td>\n",
       "      <td>Gabriel Le Mar</td>\n",
       "      <td>Novemba</td>\n",
       "    </tr>\n",
       "    <tr>\n",
       "      <td>999998</td>\n",
       "      <td>TRYYYDJ128F9310A21</td>\n",
       "      <td>SOLXGOR12A81C21EB7</td>\n",
       "      <td>Elude</td>\n",
       "      <td>Faraday</td>\n",
       "    </tr>\n",
       "    <tr>\n",
       "      <td>999999</td>\n",
       "      <td>TRYYYVU12903CD01E3</td>\n",
       "      <td>SOWXJXQ12AB0189F43</td>\n",
       "      <td>Texta</td>\n",
       "      <td>Fernweh feat. Sektion KuchikÃ¤schtli</td>\n",
       "    </tr>\n",
       "  </tbody>\n",
       "</table>\n",
       "<p>1000000 rows × 4 columns</p>\n",
       "</div>"
      ],
      "text/plain": [
       "                  track_id             song_id       artist_name  \\\n",
       "0       TRMMMYQ128F932D901  SOQMMHC12AB0180CB8  Faster Pussy cat   \n",
       "1       TRMMMKD128F425225D  SOVFVAK12A8C1350D9  Karkkiautomaatti   \n",
       "2       TRMMMRX128F93187D9  SOGTUKN12AB017F4F1    Hudson Mohawke   \n",
       "3       TRMMMCH128F425532C  SOBNYVR12A8C13558C       Yerba Brava   \n",
       "4       TRMMMWA128F426B589  SOHSBXH12A8C13B0DF        Der Mystic   \n",
       "...                    ...                 ...               ...   \n",
       "999995  TRYYYUS12903CD2DF0  SOTXAME12AB018F136      Kiko Navarro   \n",
       "999996  TRYYYJO128F426DA37  SOXQYIQ12A8C137FBB     Kuldeep Manak   \n",
       "999997  TRYYYMG128F4260ECA  SOHODZI12A8C137BB3    Gabriel Le Mar   \n",
       "999998  TRYYYDJ128F9310A21  SOLXGOR12A81C21EB7             Elude   \n",
       "999999  TRYYYVU12903CD01E3  SOWXJXQ12AB0189F43             Texta   \n",
       "\n",
       "                                     release  \n",
       "0                               Silent Night  \n",
       "1                                Tanssi vaan  \n",
       "2                          No One Could Ever  \n",
       "3                             Si Vos QuerÃ©s  \n",
       "4                           Tangle Of Aspens  \n",
       "...                                      ...  \n",
       "999995                       O Samba Da Vida  \n",
       "999996                          Jago Chhadeo  \n",
       "999997                               Novemba  \n",
       "999998                               Faraday  \n",
       "999999  Fernweh feat. Sektion KuchikÃ¤schtli  \n",
       "\n",
       "[1000000 rows x 4 columns]"
      ]
     },
     "execution_count": 17,
     "metadata": {},
     "output_type": "execute_result"
    }
   ],
   "source": [
    "data_2"
   ]
  },
  {
   "cell_type": "code",
   "execution_count": 18,
   "metadata": {
    "scrolled": true
   },
   "outputs": [
    {
     "data": {
      "text/html": [
       "<div>\n",
       "<style scoped>\n",
       "    .dataframe tbody tr th:only-of-type {\n",
       "        vertical-align: middle;\n",
       "    }\n",
       "\n",
       "    .dataframe tbody tr th {\n",
       "        vertical-align: top;\n",
       "    }\n",
       "\n",
       "    .dataframe thead th {\n",
       "        text-align: right;\n",
       "    }\n",
       "</style>\n",
       "<table border=\"1\" class=\"dataframe\">\n",
       "  <thead>\n",
       "    <tr style=\"text-align: right;\">\n",
       "      <th></th>\n",
       "      <th>user_id</th>\n",
       "      <th>song_id</th>\n",
       "      <th>freq</th>\n",
       "      <th>track_id</th>\n",
       "      <th>artist_name</th>\n",
       "      <th>release</th>\n",
       "    </tr>\n",
       "  </thead>\n",
       "  <tbody>\n",
       "    <tr>\n",
       "      <td>0</td>\n",
       "      <td>fd50c4007b68a3737fe052d5a4f78ce8aa117f3d</td>\n",
       "      <td>SOBONKR12A58A7A7E0</td>\n",
       "      <td>1</td>\n",
       "      <td>TRAEHHJ12903CF492F</td>\n",
       "      <td>Dwight Yoakam</td>\n",
       "      <td>You're The One</td>\n",
       "    </tr>\n",
       "    <tr>\n",
       "      <td>1</td>\n",
       "      <td>fd50c4007b68a3737fe052d5a4f78ce8aa117f3d</td>\n",
       "      <td>SOEGIYH12A6D4FC0E3</td>\n",
       "      <td>1</td>\n",
       "      <td>TRLGMFJ128F4217DBE</td>\n",
       "      <td>Barry Tuckwell/Academy of St Martin-in-the-Fie...</td>\n",
       "      <td>Horn Concerto No. 4 in E flat K495: II. Romanc...</td>\n",
       "    </tr>\n",
       "    <tr>\n",
       "      <td>2</td>\n",
       "      <td>fd50c4007b68a3737fe052d5a4f78ce8aa117f3d</td>\n",
       "      <td>SOFLJQZ12A6D4FADA6</td>\n",
       "      <td>1</td>\n",
       "      <td>TRTNDNE128F1486812</td>\n",
       "      <td>Cartola</td>\n",
       "      <td>Tive Sim</td>\n",
       "    </tr>\n",
       "    <tr>\n",
       "      <td>3</td>\n",
       "      <td>fd50c4007b68a3737fe052d5a4f78ce8aa117f3d</td>\n",
       "      <td>SOHTKMO12AB01843B0</td>\n",
       "      <td>1</td>\n",
       "      <td>TRASTUE128F930D488</td>\n",
       "      <td>Lonnie Gordon</td>\n",
       "      <td>Catch You Baby (Steve Pitron &amp; Max Sanna Radio...</td>\n",
       "    </tr>\n",
       "    <tr>\n",
       "      <td>4</td>\n",
       "      <td>fd50c4007b68a3737fe052d5a4f78ce8aa117f3d</td>\n",
       "      <td>SODQZCY12A6D4F9D11</td>\n",
       "      <td>1</td>\n",
       "      <td>TRFPLWO128F1486B9E</td>\n",
       "      <td>Miguel Calo</td>\n",
       "      <td>El Cuatrero</td>\n",
       "    </tr>\n",
       "  </tbody>\n",
       "</table>\n",
       "</div>"
      ],
      "text/plain": [
       "                                    user_id             song_id  freq  \\\n",
       "0  fd50c4007b68a3737fe052d5a4f78ce8aa117f3d  SOBONKR12A58A7A7E0     1   \n",
       "1  fd50c4007b68a3737fe052d5a4f78ce8aa117f3d  SOEGIYH12A6D4FC0E3     1   \n",
       "2  fd50c4007b68a3737fe052d5a4f78ce8aa117f3d  SOFLJQZ12A6D4FADA6     1   \n",
       "3  fd50c4007b68a3737fe052d5a4f78ce8aa117f3d  SOHTKMO12AB01843B0     1   \n",
       "4  fd50c4007b68a3737fe052d5a4f78ce8aa117f3d  SODQZCY12A6D4F9D11     1   \n",
       "\n",
       "             track_id                                        artist_name  \\\n",
       "0  TRAEHHJ12903CF492F                                      Dwight Yoakam   \n",
       "1  TRLGMFJ128F4217DBE  Barry Tuckwell/Academy of St Martin-in-the-Fie...   \n",
       "2  TRTNDNE128F1486812                                            Cartola   \n",
       "3  TRASTUE128F930D488                                      Lonnie Gordon   \n",
       "4  TRFPLWO128F1486B9E                                        Miguel Calo   \n",
       "\n",
       "                                             release  \n",
       "0                                     You're The One  \n",
       "1  Horn Concerto No. 4 in E flat K495: II. Romanc...  \n",
       "2                                           Tive Sim  \n",
       "3  Catch You Baby (Steve Pitron & Max Sanna Radio...  \n",
       "4                                        El Cuatrero  "
      ]
     },
     "execution_count": 18,
     "metadata": {},
     "output_type": "execute_result"
    }
   ],
   "source": [
    "dataframe.head()"
   ]
  },
  {
   "cell_type": "code",
   "execution_count": 19,
   "metadata": {},
   "outputs": [
    {
     "name": "stdout",
     "output_type": "stream",
     "text": [
      "<class 'pandas.core.frame.DataFrame'>\n",
      "Int64Index: 1491952 entries, 0 to 1491951\n",
      "Data columns (total 6 columns):\n",
      "user_id        1491952 non-null object\n",
      "song_id        1491952 non-null object\n",
      "freq           1491952 non-null int64\n",
      "track_id       1491952 non-null object\n",
      "artist_name    1491952 non-null object\n",
      "release        1491951 non-null object\n",
      "dtypes: int64(1), object(5)\n",
      "memory usage: 79.7+ MB\n"
     ]
    }
   ],
   "source": [
    "dataframe.info()"
   ]
  },
  {
   "cell_type": "code",
   "execution_count": 20,
   "metadata": {},
   "outputs": [],
   "source": [
    "dataset = dataframe.drop(['track_id'],axis = 1)"
   ]
  },
  {
   "cell_type": "code",
   "execution_count": 21,
   "metadata": {},
   "outputs": [
    {
     "data": {
      "text/plain": [
       "(110000,)"
      ]
     },
     "execution_count": 21,
     "metadata": {},
     "output_type": "execute_result"
    }
   ],
   "source": [
    "dataframe['user_id'].unique().shape"
   ]
  },
  {
   "cell_type": "code",
   "execution_count": 22,
   "metadata": {},
   "outputs": [
    {
     "data": {
      "text/plain": [
       "(137675,)"
      ]
     },
     "execution_count": 22,
     "metadata": {},
     "output_type": "execute_result"
    }
   ],
   "source": [
    "dataframe['release'].unique().shape\n",
    "### there are 137674 unique releases."
   ]
  },
  {
   "cell_type": "code",
   "execution_count": 23,
   "metadata": {
    "scrolled": false
   },
   "outputs": [
    {
     "data": {
      "text/plain": [
       "Sehr kosmisch                     5043\n",
       "Undo                              4483\n",
       "You're The One                    4270\n",
       "Use Somebody                      3822\n",
       "Dog Days Are Over (Radio Edit)    3780\n",
       "                                  ... \n",
       "P**** Poppin' (Album Version)        1\n",
       "Heavensent                           1\n",
       "Get Back To The Shelter              1\n",
       "Major Tom                            1\n",
       "Can't Stand The Quiet                1\n",
       "Name: release, Length: 137674, dtype: int64"
      ]
     },
     "execution_count": 23,
     "metadata": {},
     "output_type": "execute_result"
    }
   ],
   "source": [
    "dataframe['release'].value_counts()\n",
    "### there are 137674 unique releases."
   ]
  },
  {
   "cell_type": "code",
   "execution_count": 24,
   "metadata": {},
   "outputs": [
    {
     "data": {
      "text/plain": [
       "Coldplay                      13675\n",
       "Kings Of Leon                 11586\n",
       "Justin Bieber                  9259\n",
       "Florence + The Machine         8213\n",
       "Eminem                         8160\n",
       "                              ...  \n",
       "Stress Assassin                   1\n",
       "Steven Wilson                     1\n",
       "Booba / Rudy / Trade Union        1\n",
       "Outer Circle                      1\n",
       "Diskoteka Avariya                 1\n",
       "Name: artist_name, Length: 28367, dtype: int64"
      ]
     },
     "execution_count": 24,
     "metadata": {},
     "output_type": "execute_result"
    }
   ],
   "source": [
    "dataframe['artist_name'].value_counts()"
   ]
  },
  {
   "cell_type": "markdown",
   "metadata": {},
   "source": [
    "###### there are total 28367 artists."
   ]
  },
  {
   "cell_type": "code",
   "execution_count": 25,
   "metadata": {},
   "outputs": [
    {
     "name": "stdout",
     "output_type": "stream",
     "text": [
      "<class 'pandas.core.frame.DataFrame'>\n",
      "Int64Index: 1491952 entries, 0 to 1491951\n",
      "Data columns (total 6 columns):\n",
      "user_id        1491952 non-null object\n",
      "song_id        1491952 non-null object\n",
      "freq           1491952 non-null int64\n",
      "track_id       1491952 non-null object\n",
      "artist_name    1491952 non-null object\n",
      "release        1491951 non-null object\n",
      "dtypes: int64(1), object(5)\n",
      "memory usage: 79.7+ MB\n"
     ]
    }
   ],
   "source": [
    "dataframe.info()\n",
    "### only one frequency column is int64 and remaining object beacuse they are categorical .\n",
    "### even if frequency is integer it is dicrete beacuse it is not measurement its countable."
   ]
  },
  {
   "cell_type": "code",
   "execution_count": 26,
   "metadata": {},
   "outputs": [
    {
     "data": {
      "text/html": [
       "<div>\n",
       "<style scoped>\n",
       "    .dataframe tbody tr th:only-of-type {\n",
       "        vertical-align: middle;\n",
       "    }\n",
       "\n",
       "    .dataframe tbody tr th {\n",
       "        vertical-align: top;\n",
       "    }\n",
       "\n",
       "    .dataframe thead th {\n",
       "        text-align: right;\n",
       "    }\n",
       "</style>\n",
       "<table border=\"1\" class=\"dataframe\">\n",
       "  <thead>\n",
       "    <tr style=\"text-align: right;\">\n",
       "      <th></th>\n",
       "      <th>freq</th>\n",
       "    </tr>\n",
       "  </thead>\n",
       "  <tbody>\n",
       "    <tr>\n",
       "      <td>count</td>\n",
       "      <td>1.450933e+06</td>\n",
       "    </tr>\n",
       "    <tr>\n",
       "      <td>mean</td>\n",
       "      <td>3.187149e+00</td>\n",
       "    </tr>\n",
       "    <tr>\n",
       "      <td>std</td>\n",
       "      <td>7.051664e+00</td>\n",
       "    </tr>\n",
       "    <tr>\n",
       "      <td>min</td>\n",
       "      <td>1.000000e+00</td>\n",
       "    </tr>\n",
       "    <tr>\n",
       "      <td>25%</td>\n",
       "      <td>1.000000e+00</td>\n",
       "    </tr>\n",
       "    <tr>\n",
       "      <td>50%</td>\n",
       "      <td>1.000000e+00</td>\n",
       "    </tr>\n",
       "    <tr>\n",
       "      <td>75%</td>\n",
       "      <td>3.000000e+00</td>\n",
       "    </tr>\n",
       "    <tr>\n",
       "      <td>max</td>\n",
       "      <td>9.230000e+02</td>\n",
       "    </tr>\n",
       "  </tbody>\n",
       "</table>\n",
       "</div>"
      ],
      "text/plain": [
       "               freq\n",
       "count  1.450933e+06\n",
       "mean   3.187149e+00\n",
       "std    7.051664e+00\n",
       "min    1.000000e+00\n",
       "25%    1.000000e+00\n",
       "50%    1.000000e+00\n",
       "75%    3.000000e+00\n",
       "max    9.230000e+02"
      ]
     },
     "execution_count": 26,
     "metadata": {},
     "output_type": "execute_result"
    }
   ],
   "source": [
    "data.describe()"
   ]
  },
  {
   "cell_type": "code",
   "execution_count": 27,
   "metadata": {},
   "outputs": [
    {
     "data": {
      "text/plain": [
       "user_id        0\n",
       "song_id        0\n",
       "freq           0\n",
       "track_id       0\n",
       "artist_name    0\n",
       "release        1\n",
       "dtype: int64"
      ]
     },
     "execution_count": 27,
     "metadata": {},
     "output_type": "execute_result"
    }
   ],
   "source": [
    "dataframe.isnull().sum()"
   ]
  },
  {
   "cell_type": "code",
   "execution_count": 28,
   "metadata": {
    "scrolled": true
   },
   "outputs": [
    {
     "data": {
      "text/plain": [
       "1      862354\n",
       "2      220369\n",
       "3       98845\n",
       "5       75082\n",
       "4       56996\n",
       "        ...  \n",
       "264         1\n",
       "262         1\n",
       "259         1\n",
       "189         1\n",
       "923         1\n",
       "Name: freq, Length: 299, dtype: int64"
      ]
     },
     "execution_count": 28,
     "metadata": {},
     "output_type": "execute_result"
    }
   ],
   "source": [
    "dataframe['freq'].value_counts()"
   ]
  },
  {
   "cell_type": "markdown",
   "metadata": {},
   "source": [
    "###### Above we can see that one song is heard 862354 time. second highest is 220369. even there are songs which were heard only once by user."
   ]
  },
  {
   "cell_type": "code",
   "execution_count": 29,
   "metadata": {},
   "outputs": [
    {
     "data": {
      "text/plain": [
       "110000"
      ]
     },
     "execution_count": 29,
     "metadata": {},
     "output_type": "execute_result"
    }
   ],
   "source": [
    "dataframe['user_id'].nunique()"
   ]
  },
  {
   "cell_type": "markdown",
   "metadata": {},
   "source": [
    "### As we saw before there are 110000 unique users. \n",
    "### now we see no of songs heard by them."
   ]
  },
  {
   "cell_type": "code",
   "execution_count": 30,
   "metadata": {},
   "outputs": [
    {
     "data": {
      "text/html": [
       "<div>\n",
       "<style scoped>\n",
       "    .dataframe tbody tr th:only-of-type {\n",
       "        vertical-align: middle;\n",
       "    }\n",
       "\n",
       "    .dataframe tbody tr th {\n",
       "        vertical-align: top;\n",
       "    }\n",
       "\n",
       "    .dataframe thead th {\n",
       "        text-align: right;\n",
       "    }\n",
       "</style>\n",
       "<table border=\"1\" class=\"dataframe\">\n",
       "  <thead>\n",
       "    <tr style=\"text-align: right;\">\n",
       "      <th></th>\n",
       "      <th>user_id</th>\n",
       "      <th>song_id</th>\n",
       "      <th>freq</th>\n",
       "      <th>artist_name</th>\n",
       "      <th>release</th>\n",
       "    </tr>\n",
       "  </thead>\n",
       "  <tbody>\n",
       "    <tr>\n",
       "      <td>0</td>\n",
       "      <td>fd50c4007b68a3737fe052d5a4f78ce8aa117f3d</td>\n",
       "      <td>SOBONKR12A58A7A7E0</td>\n",
       "      <td>1</td>\n",
       "      <td>Dwight Yoakam</td>\n",
       "      <td>You're The One</td>\n",
       "    </tr>\n",
       "    <tr>\n",
       "      <td>1</td>\n",
       "      <td>fd50c4007b68a3737fe052d5a4f78ce8aa117f3d</td>\n",
       "      <td>SOEGIYH12A6D4FC0E3</td>\n",
       "      <td>1</td>\n",
       "      <td>Barry Tuckwell/Academy of St Martin-in-the-Fie...</td>\n",
       "      <td>Horn Concerto No. 4 in E flat K495: II. Romanc...</td>\n",
       "    </tr>\n",
       "    <tr>\n",
       "      <td>2</td>\n",
       "      <td>fd50c4007b68a3737fe052d5a4f78ce8aa117f3d</td>\n",
       "      <td>SOFLJQZ12A6D4FADA6</td>\n",
       "      <td>1</td>\n",
       "      <td>Cartola</td>\n",
       "      <td>Tive Sim</td>\n",
       "    </tr>\n",
       "    <tr>\n",
       "      <td>3</td>\n",
       "      <td>fd50c4007b68a3737fe052d5a4f78ce8aa117f3d</td>\n",
       "      <td>SOHTKMO12AB01843B0</td>\n",
       "      <td>1</td>\n",
       "      <td>Lonnie Gordon</td>\n",
       "      <td>Catch You Baby (Steve Pitron &amp; Max Sanna Radio...</td>\n",
       "    </tr>\n",
       "    <tr>\n",
       "      <td>4</td>\n",
       "      <td>fd50c4007b68a3737fe052d5a4f78ce8aa117f3d</td>\n",
       "      <td>SODQZCY12A6D4F9D11</td>\n",
       "      <td>1</td>\n",
       "      <td>Miguel Calo</td>\n",
       "      <td>El Cuatrero</td>\n",
       "    </tr>\n",
       "  </tbody>\n",
       "</table>\n",
       "</div>"
      ],
      "text/plain": [
       "                                    user_id             song_id  freq  \\\n",
       "0  fd50c4007b68a3737fe052d5a4f78ce8aa117f3d  SOBONKR12A58A7A7E0     1   \n",
       "1  fd50c4007b68a3737fe052d5a4f78ce8aa117f3d  SOEGIYH12A6D4FC0E3     1   \n",
       "2  fd50c4007b68a3737fe052d5a4f78ce8aa117f3d  SOFLJQZ12A6D4FADA6     1   \n",
       "3  fd50c4007b68a3737fe052d5a4f78ce8aa117f3d  SOHTKMO12AB01843B0     1   \n",
       "4  fd50c4007b68a3737fe052d5a4f78ce8aa117f3d  SODQZCY12A6D4F9D11     1   \n",
       "\n",
       "                                         artist_name  \\\n",
       "0                                      Dwight Yoakam   \n",
       "1  Barry Tuckwell/Academy of St Martin-in-the-Fie...   \n",
       "2                                            Cartola   \n",
       "3                                      Lonnie Gordon   \n",
       "4                                        Miguel Calo   \n",
       "\n",
       "                                             release  \n",
       "0                                     You're The One  \n",
       "1  Horn Concerto No. 4 in E flat K495: II. Romanc...  \n",
       "2                                           Tive Sim  \n",
       "3  Catch You Baby (Steve Pitron & Max Sanna Radio...  \n",
       "4                                        El Cuatrero  "
      ]
     },
     "execution_count": 30,
     "metadata": {},
     "output_type": "execute_result"
    }
   ],
   "source": [
    "dataset.head()"
   ]
  },
  {
   "cell_type": "code",
   "execution_count": 34,
   "metadata": {
    "scrolled": true
   },
   "outputs": [
    {
     "data": {
      "text/html": [
       "<div>\n",
       "<style scoped>\n",
       "    .dataframe tbody tr th:only-of-type {\n",
       "        vertical-align: middle;\n",
       "    }\n",
       "\n",
       "    .dataframe tbody tr th {\n",
       "        vertical-align: top;\n",
       "    }\n",
       "\n",
       "    .dataframe thead th {\n",
       "        text-align: right;\n",
       "    }\n",
       "</style>\n",
       "<table border=\"1\" class=\"dataframe\">\n",
       "  <thead>\n",
       "    <tr style=\"text-align: right;\">\n",
       "      <th></th>\n",
       "      <th>artist_name</th>\n",
       "      <th>freq</th>\n",
       "      <th>percentage</th>\n",
       "    </tr>\n",
       "  </thead>\n",
       "  <tbody>\n",
       "    <tr>\n",
       "      <td>5085</td>\n",
       "      <td>Coldplay</td>\n",
       "      <td>13675</td>\n",
       "      <td>0.916584</td>\n",
       "    </tr>\n",
       "    <tr>\n",
       "      <td>13611</td>\n",
       "      <td>Kings Of Leon</td>\n",
       "      <td>11586</td>\n",
       "      <td>0.776567</td>\n",
       "    </tr>\n",
       "    <tr>\n",
       "      <td>12965</td>\n",
       "      <td>Justin Bieber</td>\n",
       "      <td>9259</td>\n",
       "      <td>0.620596</td>\n",
       "    </tr>\n",
       "    <tr>\n",
       "      <td>8801</td>\n",
       "      <td>Florence + The Machine</td>\n",
       "      <td>8213</td>\n",
       "      <td>0.550487</td>\n",
       "    </tr>\n",
       "    <tr>\n",
       "      <td>7969</td>\n",
       "      <td>Eminem</td>\n",
       "      <td>8160</td>\n",
       "      <td>0.546934</td>\n",
       "    </tr>\n",
       "    <tr>\n",
       "      <td>...</td>\n",
       "      <td>...</td>\n",
       "      <td>...</td>\n",
       "      <td>...</td>\n",
       "    </tr>\n",
       "    <tr>\n",
       "      <td>28357</td>\n",
       "      <td>Ã–zlem Tekin</td>\n",
       "      <td>1</td>\n",
       "      <td>0.000067</td>\n",
       "    </tr>\n",
       "    <tr>\n",
       "      <td>28358</td>\n",
       "      <td>Ã‚me Strong</td>\n",
       "      <td>1</td>\n",
       "      <td>0.000067</td>\n",
       "    </tr>\n",
       "    <tr>\n",
       "      <td>28360</td>\n",
       "      <td>Ã“rla Fallon</td>\n",
       "      <td>1</td>\n",
       "      <td>0.000067</td>\n",
       "    </tr>\n",
       "    <tr>\n",
       "      <td>28361</td>\n",
       "      <td>Ã…ge Aleksandersen</td>\n",
       "      <td>1</td>\n",
       "      <td>0.000067</td>\n",
       "    </tr>\n",
       "    <tr>\n",
       "      <td>28364</td>\n",
       "      <td>Ã�gata</td>\n",
       "      <td>1</td>\n",
       "      <td>0.000067</td>\n",
       "    </tr>\n",
       "  </tbody>\n",
       "</table>\n",
       "<p>28367 rows × 3 columns</p>\n",
       "</div>"
      ],
      "text/plain": [
       "                  artist_name   freq  percentage\n",
       "5085                 Coldplay  13675    0.916584\n",
       "13611           Kings Of Leon  11586    0.776567\n",
       "12965           Justin Bieber   9259    0.620596\n",
       "8801   Florence + The Machine   8213    0.550487\n",
       "7969                   Eminem   8160    0.546934\n",
       "...                       ...    ...         ...\n",
       "28357            Ã–zlem Tekin      1    0.000067\n",
       "28358             Ã‚me Strong      1    0.000067\n",
       "28360            Ã“rla Fallon      1    0.000067\n",
       "28361      Ã…ge Aleksandersen      1    0.000067\n",
       "28364                  Ã�gata      1    0.000067\n",
       "\n",
       "[28367 rows x 3 columns]"
      ]
     },
     "execution_count": 34,
     "metadata": {},
     "output_type": "execute_result"
    }
   ],
   "source": [
    "artist_grouped = dataset.groupby(['artist_name']).agg({'freq': 'count'}).reset_index()\n",
    "grouped_sum = artist_grouped['freq'].sum()\n",
    "artist_grouped['percentage']  = artist_grouped['freq'].div(grouped_sum)*100\n",
    "artist_grouped.sort_values(['freq', 'artist_name'], ascending = [0,1])"
   ]
  },
  {
   "cell_type": "code",
   "execution_count": 35,
   "metadata": {
    "scrolled": true
   },
   "outputs": [
    {
     "data": {
      "text/html": [
       "<div>\n",
       "<style scoped>\n",
       "    .dataframe tbody tr th:only-of-type {\n",
       "        vertical-align: middle;\n",
       "    }\n",
       "\n",
       "    .dataframe tbody tr th {\n",
       "        vertical-align: top;\n",
       "    }\n",
       "\n",
       "    .dataframe thead th {\n",
       "        text-align: right;\n",
       "    }\n",
       "</style>\n",
       "<table border=\"1\" class=\"dataframe\">\n",
       "  <thead>\n",
       "    <tr style=\"text-align: right;\">\n",
       "      <th></th>\n",
       "      <th>artist_name</th>\n",
       "      <th>freq</th>\n",
       "      <th>percentage</th>\n",
       "    </tr>\n",
       "  </thead>\n",
       "  <tbody>\n",
       "    <tr>\n",
       "      <td>5085</td>\n",
       "      <td>Coldplay</td>\n",
       "      <td>13675</td>\n",
       "      <td>0.916584</td>\n",
       "    </tr>\n",
       "    <tr>\n",
       "      <td>13611</td>\n",
       "      <td>Kings Of Leon</td>\n",
       "      <td>11586</td>\n",
       "      <td>0.776567</td>\n",
       "    </tr>\n",
       "    <tr>\n",
       "      <td>12965</td>\n",
       "      <td>Justin Bieber</td>\n",
       "      <td>9259</td>\n",
       "      <td>0.620596</td>\n",
       "    </tr>\n",
       "    <tr>\n",
       "      <td>8801</td>\n",
       "      <td>Florence + The Machine</td>\n",
       "      <td>8213</td>\n",
       "      <td>0.550487</td>\n",
       "    </tr>\n",
       "    <tr>\n",
       "      <td>7969</td>\n",
       "      <td>Eminem</td>\n",
       "      <td>8160</td>\n",
       "      <td>0.546934</td>\n",
       "    </tr>\n",
       "    <tr>\n",
       "      <td>17319</td>\n",
       "      <td>Muse</td>\n",
       "      <td>7916</td>\n",
       "      <td>0.530580</td>\n",
       "    </tr>\n",
       "    <tr>\n",
       "      <td>11378</td>\n",
       "      <td>Jack Johnson</td>\n",
       "      <td>7465</td>\n",
       "      <td>0.500351</td>\n",
       "    </tr>\n",
       "    <tr>\n",
       "      <td>23561</td>\n",
       "      <td>Taylor Swift</td>\n",
       "      <td>7435</td>\n",
       "      <td>0.498340</td>\n",
       "    </tr>\n",
       "    <tr>\n",
       "      <td>26447</td>\n",
       "      <td>Train</td>\n",
       "      <td>6617</td>\n",
       "      <td>0.443513</td>\n",
       "    </tr>\n",
       "    <tr>\n",
       "      <td>23951</td>\n",
       "      <td>The Black Keys</td>\n",
       "      <td>6507</td>\n",
       "      <td>0.436140</td>\n",
       "    </tr>\n",
       "  </tbody>\n",
       "</table>\n",
       "</div>"
      ],
      "text/plain": [
       "                  artist_name   freq  percentage\n",
       "5085                 Coldplay  13675    0.916584\n",
       "13611           Kings Of Leon  11586    0.776567\n",
       "12965           Justin Bieber   9259    0.620596\n",
       "8801   Florence + The Machine   8213    0.550487\n",
       "7969                   Eminem   8160    0.546934\n",
       "17319                    Muse   7916    0.530580\n",
       "11378            Jack Johnson   7465    0.500351\n",
       "23561            Taylor Swift   7435    0.498340\n",
       "26447                   Train   6617    0.443513\n",
       "23951          The Black Keys   6507    0.436140"
      ]
     },
     "execution_count": 35,
     "metadata": {},
     "output_type": "execute_result"
    }
   ],
   "source": [
    "artist_grouped.sort_values('freq',ascending=False).head(10)"
   ]
  },
  {
   "cell_type": "code",
   "execution_count": 37,
   "metadata": {},
   "outputs": [
    {
     "data": {
      "text/plain": [
       "count    28367.000000\n",
       "mean        52.594635\n",
       "std        273.611223\n",
       "min          1.000000\n",
       "25%          2.000000\n",
       "50%          6.000000\n",
       "75%         25.000000\n",
       "max      13675.000000\n",
       "Name: freq, dtype: float64"
      ]
     },
     "execution_count": 37,
     "metadata": {},
     "output_type": "execute_result"
    }
   ],
   "source": [
    "artist_grouped['freq'].describe()"
   ]
  },
  {
   "cell_type": "code",
   "execution_count": 36,
   "metadata": {
    "scrolled": true
   },
   "outputs": [
    {
     "data": {
      "text/plain": [
       "<matplotlib.axes._subplots.AxesSubplot at 0x1b0d49c4288>"
      ]
     },
     "execution_count": 36,
     "metadata": {},
     "output_type": "execute_result"
    },
    {
     "data": {
      "image/png": "[encoded data removed]",
      "text/plain": [
       "<Figure size 432x288 with 1 Axes>"
      ]
     },
     "metadata": {
      "needs_background": "light"
     },
     "output_type": "display_data"
    }
   ],
   "source": [
    "sns.boxplot(artist_grouped['freq'])"
   ]
  },
  {
   "cell_type": "markdown",
   "metadata": {},
   "source": [
    "We can see the top 10 most widely listened artist , from the dataframe."
   ]
  },
  {
   "cell_type": "code",
   "execution_count": 72,
   "metadata": {},
   "outputs": [
    {
     "data": {
      "text/html": [
       "<div>\n",
       "<style scoped>\n",
       "    .dataframe tbody tr th:only-of-type {\n",
       "        vertical-align: middle;\n",
       "    }\n",
       "\n",
       "    .dataframe tbody tr th {\n",
       "        vertical-align: top;\n",
       "    }\n",
       "\n",
       "    .dataframe thead th {\n",
       "        text-align: right;\n",
       "    }\n",
       "</style>\n",
       "<table border=\"1\" class=\"dataframe\">\n",
       "  <thead>\n",
       "    <tr style=\"text-align: right;\">\n",
       "      <th></th>\n",
       "      <th>release</th>\n",
       "      <th>freq</th>\n",
       "      <th>percentage</th>\n",
       "    </tr>\n",
       "  </thead>\n",
       "  <tbody>\n",
       "    <tr>\n",
       "      <td>98847</td>\n",
       "      <td>Sehr kosmisch</td>\n",
       "      <td>5043</td>\n",
       "      <td>0.338014</td>\n",
       "    </tr>\n",
       "    <tr>\n",
       "      <td>125441</td>\n",
       "      <td>Undo</td>\n",
       "      <td>4483</td>\n",
       "      <td>0.300479</td>\n",
       "    </tr>\n",
       "    <tr>\n",
       "      <td>136118</td>\n",
       "      <td>You're The One</td>\n",
       "      <td>4270</td>\n",
       "      <td>0.286202</td>\n",
       "    </tr>\n",
       "    <tr>\n",
       "      <td>126037</td>\n",
       "      <td>Use Somebody</td>\n",
       "      <td>3822</td>\n",
       "      <td>0.256175</td>\n",
       "    </tr>\n",
       "    <tr>\n",
       "      <td>28727</td>\n",
       "      <td>Dog Days Are Over (Radio Edit)</td>\n",
       "      <td>3780</td>\n",
       "      <td>0.253360</td>\n",
       "    </tr>\n",
       "    <tr>\n",
       "      <td>...</td>\n",
       "      <td>...</td>\n",
       "      <td>...</td>\n",
       "      <td>...</td>\n",
       "    </tr>\n",
       "    <tr>\n",
       "      <td>137660</td>\n",
       "      <td>Ã�guas De MarÃ§o</td>\n",
       "      <td>1</td>\n",
       "      <td>0.000067</td>\n",
       "    </tr>\n",
       "    <tr>\n",
       "      <td>137661</td>\n",
       "      <td>Ã�gy is jÃ³</td>\n",
       "      <td>1</td>\n",
       "      <td>0.000067</td>\n",
       "    </tr>\n",
       "    <tr>\n",
       "      <td>137662</td>\n",
       "      <td>Ã�mame dos veces</td>\n",
       "      <td>1</td>\n",
       "      <td>0.000067</td>\n",
       "    </tr>\n",
       "    <tr>\n",
       "      <td>137665</td>\n",
       "      <td>Ã�ngeles De Acero</td>\n",
       "      <td>1</td>\n",
       "      <td>0.000067</td>\n",
       "    </tr>\n",
       "    <tr>\n",
       "      <td>137670</td>\n",
       "      <td>Ã�rboles De La Barranca</td>\n",
       "      <td>1</td>\n",
       "      <td>0.000067</td>\n",
       "    </tr>\n",
       "  </tbody>\n",
       "</table>\n",
       "<p>137674 rows × 3 columns</p>\n",
       "</div>"
      ],
      "text/plain": [
       "                               release  freq  percentage\n",
       "98847                    Sehr kosmisch  5043    0.338014\n",
       "125441                            Undo  4483    0.300479\n",
       "136118                  You're The One  4270    0.286202\n",
       "126037                    Use Somebody  3822    0.256175\n",
       "28727   Dog Days Are Over (Radio Edit)  3780    0.253360\n",
       "...                                ...   ...         ...\n",
       "137660                Ã�guas De MarÃ§o     1    0.000067\n",
       "137661                     Ã�gy is jÃ³     1    0.000067\n",
       "137662                Ã�mame dos veces     1    0.000067\n",
       "137665               Ã�ngeles De Acero     1    0.000067\n",
       "137670         Ã�rboles De La Barranca     1    0.000067\n",
       "\n",
       "[137674 rows x 3 columns]"
      ]
     },
     "execution_count": 72,
     "metadata": {},
     "output_type": "execute_result"
    }
   ],
   "source": [
    "release_grouped = dataset.groupby(['release']).agg({'freq': 'count'}).reset_index()\n",
    "grouped_sum = release_grouped['freq'].sum()\n",
    "release_grouped['percentage']  = release_grouped['freq'].div(grouped_sum)*100\n",
    "release_grouped.sort_values(['freq', 'release'], ascending = [0,1])"
   ]
  },
  {
   "cell_type": "code",
   "execution_count": 73,
   "metadata": {},
   "outputs": [
    {
     "data": {
      "text/html": [
       "<div>\n",
       "<style scoped>\n",
       "    .dataframe tbody tr th:only-of-type {\n",
       "        vertical-align: middle;\n",
       "    }\n",
       "\n",
       "    .dataframe tbody tr th {\n",
       "        vertical-align: top;\n",
       "    }\n",
       "\n",
       "    .dataframe thead th {\n",
       "        text-align: right;\n",
       "    }\n",
       "</style>\n",
       "<table border=\"1\" class=\"dataframe\">\n",
       "  <thead>\n",
       "    <tr style=\"text-align: right;\">\n",
       "      <th></th>\n",
       "      <th>release</th>\n",
       "      <th>freq</th>\n",
       "      <th>percentage</th>\n",
       "    </tr>\n",
       "  </thead>\n",
       "  <tbody>\n",
       "    <tr>\n",
       "      <td>98847</td>\n",
       "      <td>Sehr kosmisch</td>\n",
       "      <td>5043</td>\n",
       "      <td>0.338014</td>\n",
       "    </tr>\n",
       "    <tr>\n",
       "      <td>125441</td>\n",
       "      <td>Undo</td>\n",
       "      <td>4483</td>\n",
       "      <td>0.300479</td>\n",
       "    </tr>\n",
       "    <tr>\n",
       "      <td>136118</td>\n",
       "      <td>You're The One</td>\n",
       "      <td>4270</td>\n",
       "      <td>0.286202</td>\n",
       "    </tr>\n",
       "    <tr>\n",
       "      <td>126037</td>\n",
       "      <td>Use Somebody</td>\n",
       "      <td>3822</td>\n",
       "      <td>0.256175</td>\n",
       "    </tr>\n",
       "    <tr>\n",
       "      <td>28727</td>\n",
       "      <td>Dog Days Are Over (Radio Edit)</td>\n",
       "      <td>3780</td>\n",
       "      <td>0.253360</td>\n",
       "    </tr>\n",
       "    <tr>\n",
       "      <td>94017</td>\n",
       "      <td>Revelry</td>\n",
       "      <td>3672</td>\n",
       "      <td>0.246121</td>\n",
       "    </tr>\n",
       "    <tr>\n",
       "      <td>98620</td>\n",
       "      <td>Secrets</td>\n",
       "      <td>3456</td>\n",
       "      <td>0.231643</td>\n",
       "    </tr>\n",
       "    <tr>\n",
       "      <td>49077</td>\n",
       "      <td>Horn Concerto No. 4 in E flat K495: II. Romanc...</td>\n",
       "      <td>3272</td>\n",
       "      <td>0.219310</td>\n",
       "    </tr>\n",
       "    <tr>\n",
       "      <td>104370</td>\n",
       "      <td>Somebody To Love</td>\n",
       "      <td>3263</td>\n",
       "      <td>0.218707</td>\n",
       "    </tr>\n",
       "    <tr>\n",
       "      <td>47699</td>\n",
       "      <td>Hey_ Soul Sister</td>\n",
       "      <td>2791</td>\n",
       "      <td>0.187070</td>\n",
       "    </tr>\n",
       "  </tbody>\n",
       "</table>\n",
       "</div>"
      ],
      "text/plain": [
       "                                                  release  freq  percentage\n",
       "98847                                       Sehr kosmisch  5043    0.338014\n",
       "125441                                               Undo  4483    0.300479\n",
       "136118                                     You're The One  4270    0.286202\n",
       "126037                                       Use Somebody  3822    0.256175\n",
       "28727                      Dog Days Are Over (Radio Edit)  3780    0.253360\n",
       "94017                                             Revelry  3672    0.246121\n",
       "98620                                             Secrets  3456    0.231643\n",
       "49077   Horn Concerto No. 4 in E flat K495: II. Romanc...  3272    0.219310\n",
       "104370                                   Somebody To Love  3263    0.218707\n",
       "47699                                    Hey_ Soul Sister  2791    0.187070"
      ]
     },
     "execution_count": 73,
     "metadata": {},
     "output_type": "execute_result"
    }
   ],
   "source": [
    "release_grouped.sort_values(by = 'freq',ascending=False).head(10)"
   ]
  },
  {
   "cell_type": "markdown",
   "metadata": {},
   "source": [
    "Top 10 most listened releases"
   ]
  },
  {
   "cell_type": "code",
   "execution_count": 74,
   "metadata": {},
   "outputs": [
    {
     "data": {
      "text/plain": [
       "count    137674.000000\n",
       "mean         10.836839\n",
       "std          56.151440\n",
       "min           1.000000\n",
       "25%           1.000000\n",
       "50%           2.000000\n",
       "75%           7.000000\n",
       "max        5043.000000\n",
       "Name: freq, dtype: float64"
      ]
     },
     "execution_count": 74,
     "metadata": {},
     "output_type": "execute_result"
    }
   ],
   "source": [
    "release_grouped['freq'].describe()"
   ]
  },
  {
   "cell_type": "code",
   "execution_count": 9,
   "metadata": {},
   "outputs": [
    {
     "data": {
      "text/html": [
       "<div>\n",
       "<style scoped>\n",
       "    .dataframe tbody tr th:only-of-type {\n",
       "        vertical-align: middle;\n",
       "    }\n",
       "\n",
       "    .dataframe tbody tr th {\n",
       "        vertical-align: top;\n",
       "    }\n",
       "\n",
       "    .dataframe thead th {\n",
       "        text-align: right;\n",
       "    }\n",
       "</style>\n",
       "<table border=\"1\" class=\"dataframe\">\n",
       "  <thead>\n",
       "    <tr style=\"text-align: right;\">\n",
       "      <th></th>\n",
       "      <th>user_id</th>\n",
       "      <th>song_id</th>\n",
       "    </tr>\n",
       "  </thead>\n",
       "  <tbody>\n",
       "    <tr>\n",
       "      <td>0</td>\n",
       "      <td>00007a02388c208ea7176479f6ae06f8224355b3</td>\n",
       "      <td>9</td>\n",
       "    </tr>\n",
       "    <tr>\n",
       "      <td>1</td>\n",
       "      <td>00014a76ed063e1a749171a253bca9d9a0ff1782</td>\n",
       "      <td>11</td>\n",
       "    </tr>\n",
       "    <tr>\n",
       "      <td>2</td>\n",
       "      <td>00015189668691680bb1a2e58afde1541ec92ced</td>\n",
       "      <td>17</td>\n",
       "    </tr>\n",
       "    <tr>\n",
       "      <td>3</td>\n",
       "      <td>0001ff7aa2667c8d8b945317b88adaed1c0b9dc2</td>\n",
       "      <td>9</td>\n",
       "    </tr>\n",
       "    <tr>\n",
       "      <td>4</td>\n",
       "      <td>00020fcd8b01986a6a85b896ccde6c49f35142ad</td>\n",
       "      <td>32</td>\n",
       "    </tr>\n",
       "  </tbody>\n",
       "</table>\n",
       "</div>"
      ],
      "text/plain": [
       "                                    user_id  song_id\n",
       "0  00007a02388c208ea7176479f6ae06f8224355b3        9\n",
       "1  00014a76ed063e1a749171a253bca9d9a0ff1782       11\n",
       "2  00015189668691680bb1a2e58afde1541ec92ced       17\n",
       "3  0001ff7aa2667c8d8b945317b88adaed1c0b9dc2        9\n",
       "4  00020fcd8b01986a6a85b896ccde6c49f35142ad       32"
      ]
     },
     "execution_count": 9,
     "metadata": {},
     "output_type": "execute_result"
    }
   ],
   "source": [
    "song_user = dataframe.groupby(['user_id'],as_index=False)['song_id'].count()\n",
    "song_user.head()"
   ]
  },
  {
   "cell_type": "code",
   "execution_count": 10,
   "metadata": {},
   "outputs": [
    {
     "data": {
      "text/plain": [
       "count    110000.000000\n",
       "mean         13.563200\n",
       "std           8.321648\n",
       "min           5.000000\n",
       "25%           7.000000\n",
       "50%          11.000000\n",
       "75%          18.000000\n",
       "max          57.000000\n",
       "Name: song_id, dtype: float64"
      ]
     },
     "execution_count": 10,
     "metadata": {},
     "output_type": "execute_result"
    }
   ],
   "source": [
    "song_user = dataframe.groupby(['user_id']\n",
    " ,as_index=False)['song_id'].count()\n",
    "song_user['song_id'].describe()"
   ]
  },
  {
   "cell_type": "code",
   "execution_count": 12,
   "metadata": {},
   "outputs": [
    {
     "data": {
      "text/plain": [
       "<matplotlib.axes._subplots.AxesSubplot at 0x1b0cb106888>"
      ]
     },
     "execution_count": 12,
     "metadata": {},
     "output_type": "execute_result"
    },
    {
     "data": {
      "image/png": "[encoded data removed]",
      "text/plain": [
       "<Figure size 432x288 with 1 Axes>"
      ]
     },
     "metadata": {
      "needs_background": "light"
     },
     "output_type": "display_data"
    }
   ],
   "source": [
    "sns.boxplot(song_user['song_id'])"
   ]
  },
  {
   "cell_type": "code",
   "execution_count": 9,
   "metadata": {},
   "outputs": [
    {
     "data": {
      "text/plain": [
       "124"
      ]
     },
     "execution_count": 9,
     "metadata": {},
     "output_type": "execute_result"
    }
   ],
   "source": [
    "dataframe['user_id'][dataframe['freq']==58].count()"
   ]
  },
  {
   "cell_type": "code",
   "execution_count": 6,
   "metadata": {},
   "outputs": [
    {
     "data": {
      "text/html": [
       "<div>\n",
       "<style scoped>\n",
       "    .dataframe tbody tr th:only-of-type {\n",
       "        vertical-align: middle;\n",
       "    }\n",
       "\n",
       "    .dataframe tbody tr th {\n",
       "        vertical-align: top;\n",
       "    }\n",
       "\n",
       "    .dataframe thead th {\n",
       "        text-align: right;\n",
       "    }\n",
       "</style>\n",
       "<table border=\"1\" class=\"dataframe\">\n",
       "  <thead>\n",
       "    <tr style=\"text-align: right;\">\n",
       "      <th></th>\n",
       "      <th>user_id</th>\n",
       "      <th>song_id</th>\n",
       "      <th>freq</th>\n",
       "      <th>track_id</th>\n",
       "      <th>artist_name</th>\n",
       "      <th>release</th>\n",
       "    </tr>\n",
       "  </thead>\n",
       "  <tbody>\n",
       "    <tr>\n",
       "      <td>902982</td>\n",
       "      <td>ad4b2717e89766b66b96fe52a38736116e315874</td>\n",
       "      <td>SOHIKCR12AF72AAD2E</td>\n",
       "      <td>2</td>\n",
       "      <td>TRPNZXS128F9326218</td>\n",
       "      <td>OneRepublic</td>\n",
       "      <td>All This Time</td>\n",
       "    </tr>\n",
       "    <tr>\n",
       "      <td>902983</td>\n",
       "      <td>ad4b2717e89766b66b96fe52a38736116e315874</td>\n",
       "      <td>SOBKMNJ12AF729BCA3</td>\n",
       "      <td>2</td>\n",
       "      <td>TRFSYYG128F9326215</td>\n",
       "      <td>OneRepublic</td>\n",
       "      <td>Missing Persons 1 &amp; 2</td>\n",
       "    </tr>\n",
       "  </tbody>\n",
       "</table>\n",
       "</div>"
      ],
      "text/plain": [
       "                                         user_id             song_id  freq  \\\n",
       "902982  ad4b2717e89766b66b96fe52a38736116e315874  SOHIKCR12AF72AAD2E     2   \n",
       "902983  ad4b2717e89766b66b96fe52a38736116e315874  SOBKMNJ12AF729BCA3     2   \n",
       "\n",
       "                  track_id  artist_name                release  \n",
       "902982  TRPNZXS128F9326218  OneRepublic          All This Time  \n",
       "902983  TRFSYYG128F9326215  OneRepublic  Missing Persons 1 & 2  "
      ]
     },
     "execution_count": 6,
     "metadata": {},
     "output_type": "execute_result"
    }
   ],
   "source": [
    "user_1 = dataframe[(dataframe['user_id']=='ad4b2717e89766b66b96fe52a38736116e315874')]\n",
    "user_1.head(2)"
   ]
  },
  {
   "cell_type": "code",
   "execution_count": 5,
   "metadata": {
    "scrolled": true
   },
   "outputs": [
    {
     "data": {
      "text/html": [
       "<div>\n",
       "<style scoped>\n",
       "    .dataframe tbody tr th:only-of-type {\n",
       "        vertical-align: middle;\n",
       "    }\n",
       "\n",
       "    .dataframe tbody tr th {\n",
       "        vertical-align: top;\n",
       "    }\n",
       "\n",
       "    .dataframe thead th {\n",
       "        text-align: right;\n",
       "    }\n",
       "</style>\n",
       "<table border=\"1\" class=\"dataframe\">\n",
       "  <thead>\n",
       "    <tr style=\"text-align: right;\">\n",
       "      <th></th>\n",
       "      <th>artist_name</th>\n",
       "      <th>freq</th>\n",
       "    </tr>\n",
       "  </thead>\n",
       "  <tbody>\n",
       "    <tr>\n",
       "      <td>903029</td>\n",
       "      <td>The Courteeners</td>\n",
       "      <td>10</td>\n",
       "    </tr>\n",
       "    <tr>\n",
       "      <td>903023</td>\n",
       "      <td>The Smiths</td>\n",
       "      <td>6</td>\n",
       "    </tr>\n",
       "    <tr>\n",
       "      <td>903027</td>\n",
       "      <td>Maroon 5</td>\n",
       "      <td>4</td>\n",
       "    </tr>\n",
       "    <tr>\n",
       "      <td>903036</td>\n",
       "      <td>OneRepublic</td>\n",
       "      <td>3</td>\n",
       "    </tr>\n",
       "    <tr>\n",
       "      <td>902982</td>\n",
       "      <td>OneRepublic</td>\n",
       "      <td>2</td>\n",
       "    </tr>\n",
       "    <tr>\n",
       "      <td>902994</td>\n",
       "      <td>April Stevens</td>\n",
       "      <td>2</td>\n",
       "    </tr>\n",
       "    <tr>\n",
       "      <td>902993</td>\n",
       "      <td>The Notting Hillbillies</td>\n",
       "      <td>2</td>\n",
       "    </tr>\n",
       "    <tr>\n",
       "      <td>903018</td>\n",
       "      <td>John Mayer</td>\n",
       "      <td>2</td>\n",
       "    </tr>\n",
       "    <tr>\n",
       "      <td>903006</td>\n",
       "      <td>OneRepublic</td>\n",
       "      <td>2</td>\n",
       "    </tr>\n",
       "    <tr>\n",
       "      <td>903015</td>\n",
       "      <td>John Mayer</td>\n",
       "      <td>2</td>\n",
       "    </tr>\n",
       "  </tbody>\n",
       "</table>\n",
       "</div>"
      ],
      "text/plain": [
       "                    artist_name  freq\n",
       "903029          The Courteeners    10\n",
       "903023               The Smiths     6\n",
       "903027                 Maroon 5     4\n",
       "903036              OneRepublic     3\n",
       "902982              OneRepublic     2\n",
       "902994            April Stevens     2\n",
       "902993  The Notting Hillbillies     2\n",
       "903018               John Mayer     2\n",
       "903006              OneRepublic     2\n",
       "903015               John Mayer     2"
      ]
     },
     "execution_count": 5,
     "metadata": {},
     "output_type": "execute_result"
    }
   ],
   "source": [
    "top_1 = user_1.groupby(['artist_name'],as_index=False)\n",
    "top_1 = pd.DataFrame()"
   ]
  },
  {
   "cell_type": "code",
   "execution_count": 10,
   "metadata": {},
   "outputs": [
    {
     "data": {
      "text/html": [
       "<div>\n",
       "<style scoped>\n",
       "    .dataframe tbody tr th:only-of-type {\n",
       "        vertical-align: middle;\n",
       "    }\n",
       "\n",
       "    .dataframe tbody tr th {\n",
       "        vertical-align: top;\n",
       "    }\n",
       "\n",
       "    .dataframe thead th {\n",
       "        text-align: right;\n",
       "    }\n",
       "</style>\n",
       "<table border=\"1\" class=\"dataframe\">\n",
       "  <thead>\n",
       "    <tr style=\"text-align: right;\">\n",
       "      <th></th>\n",
       "      <th>user_id</th>\n",
       "      <th>song_id</th>\n",
       "      <th>freq</th>\n",
       "      <th>track_id</th>\n",
       "      <th>artist_name</th>\n",
       "      <th>release</th>\n",
       "    </tr>\n",
       "  </thead>\n",
       "  <tbody>\n",
       "    <tr>\n",
       "      <td>1466207</td>\n",
       "      <td>316110734d8da7478cc33237458814f770a9eb7a</td>\n",
       "      <td>SOZCWQA12A6701C798</td>\n",
       "      <td>6</td>\n",
       "      <td>TRZFEOG128E078ECBE</td>\n",
       "      <td>Dr. Dre / Snoop Dogg</td>\n",
       "      <td>The Next Episode</td>\n",
       "    </tr>\n",
       "    <tr>\n",
       "      <td>1466208</td>\n",
       "      <td>316110734d8da7478cc33237458814f770a9eb7a</td>\n",
       "      <td>SOTEGWG12AB01897AC</td>\n",
       "      <td>9</td>\n",
       "      <td>TRKFWPM12903CCAB5C</td>\n",
       "      <td>Drake / Kanye West / Lil Wayne / Eminem</td>\n",
       "      <td>Forever</td>\n",
       "    </tr>\n",
       "  </tbody>\n",
       "</table>\n",
       "</div>"
      ],
      "text/plain": [
       "                                          user_id             song_id  freq  \\\n",
       "1466207  316110734d8da7478cc33237458814f770a9eb7a  SOZCWQA12A6701C798     6   \n",
       "1466208  316110734d8da7478cc33237458814f770a9eb7a  SOTEGWG12AB01897AC     9   \n",
       "\n",
       "                   track_id                              artist_name  \\\n",
       "1466207  TRZFEOG128E078ECBE                     Dr. Dre / Snoop Dogg   \n",
       "1466208  TRKFWPM12903CCAB5C  Drake / Kanye West / Lil Wayne / Eminem   \n",
       "\n",
       "                  release  \n",
       "1466207  The Next Episode  \n",
       "1466208           Forever  "
      ]
     },
     "execution_count": 10,
     "metadata": {},
     "output_type": "execute_result"
    }
   ],
   "source": [
    "user_2 = dataframe[(dataframe['user_id']=='316110734d8da7478cc33237458814f770a9eb7a')]\n",
    "user_2.head(2)"
   ]
  },
  {
   "cell_type": "code",
   "execution_count": 12,
   "metadata": {},
   "outputs": [
    {
     "data": {
      "text/html": [
       "<div>\n",
       "<style scoped>\n",
       "    .dataframe tbody tr th:only-of-type {\n",
       "        vertical-align: middle;\n",
       "    }\n",
       "\n",
       "    .dataframe tbody tr th {\n",
       "        vertical-align: top;\n",
       "    }\n",
       "\n",
       "    .dataframe thead th {\n",
       "        text-align: right;\n",
       "    }\n",
       "</style>\n",
       "<table border=\"1\" class=\"dataframe\">\n",
       "  <thead>\n",
       "    <tr style=\"text-align: right;\">\n",
       "      <th></th>\n",
       "      <th>artist_name</th>\n",
       "      <th>freq</th>\n",
       "    </tr>\n",
       "  </thead>\n",
       "  <tbody>\n",
       "    <tr>\n",
       "      <td>1466252</td>\n",
       "      <td>OneRepublic</td>\n",
       "      <td>18</td>\n",
       "    </tr>\n",
       "    <tr>\n",
       "      <td>1466230</td>\n",
       "      <td>Avenged Sevenfold</td>\n",
       "      <td>17</td>\n",
       "    </tr>\n",
       "    <tr>\n",
       "      <td>1466236</td>\n",
       "      <td>Five Finger Death Punch</td>\n",
       "      <td>16</td>\n",
       "    </tr>\n",
       "    <tr>\n",
       "      <td>1466228</td>\n",
       "      <td>Alliance Ethnik</td>\n",
       "      <td>14</td>\n",
       "    </tr>\n",
       "    <tr>\n",
       "      <td>1466223</td>\n",
       "      <td>Black Eyed Peas</td>\n",
       "      <td>10</td>\n",
       "    </tr>\n",
       "    <tr>\n",
       "      <td>1466256</td>\n",
       "      <td>Kid Cudi Vs Crookers</td>\n",
       "      <td>10</td>\n",
       "    </tr>\n",
       "    <tr>\n",
       "      <td>1466242</td>\n",
       "      <td>Dwight Yoakam</td>\n",
       "      <td>10</td>\n",
       "    </tr>\n",
       "    <tr>\n",
       "      <td>1466222</td>\n",
       "      <td>Kid Cudi</td>\n",
       "      <td>9</td>\n",
       "    </tr>\n",
       "    <tr>\n",
       "      <td>1466261</td>\n",
       "      <td>Jack Johnson</td>\n",
       "      <td>9</td>\n",
       "    </tr>\n",
       "    <tr>\n",
       "      <td>1466210</td>\n",
       "      <td>Cage The Elephant</td>\n",
       "      <td>9</td>\n",
       "    </tr>\n",
       "  </tbody>\n",
       "</table>\n",
       "</div>"
      ],
      "text/plain": [
       "                     artist_name  freq\n",
       "1466252              OneRepublic    18\n",
       "1466230        Avenged Sevenfold    17\n",
       "1466236  Five Finger Death Punch    16\n",
       "1466228          Alliance Ethnik    14\n",
       "1466223          Black Eyed Peas    10\n",
       "1466256     Kid Cudi Vs Crookers    10\n",
       "1466242            Dwight Yoakam    10\n",
       "1466222                 Kid Cudi     9\n",
       "1466261             Jack Johnson     9\n",
       "1466210        Cage The Elephant     9"
      ]
     },
     "execution_count": 12,
     "metadata": {},
     "output_type": "execute_result"
    }
   ],
   "source": [
    "user_2[['artist_name','freq']].\n",
    "sort_values(by='freq',ascending = False).head(10)"
   ]
  }
 ],
 "metadata": {
  "kernelspec": {
   "display_name": "Python 3",
   "language": "python",
   "name": "python3"
  },
  "language_info": {
   "codemirror_mode": {
    "name": "ipython",
    "version": 3
   },
   "file_extension": ".py",
   "mimetype": "text/x-python",
   "name": "python",
   "nbconvert_exporter": "python",
   "pygments_lexer": "ipython3",
   "version": "3.7.4"
  }
 },
 "nbformat": 4,
 "nbformat_minor": 4
}
