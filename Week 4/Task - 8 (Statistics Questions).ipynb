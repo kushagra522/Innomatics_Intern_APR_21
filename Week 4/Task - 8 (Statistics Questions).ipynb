{
 "cells": [
  {
   "cell_type": "code",
   "execution_count": 1,
   "metadata": {},
   "outputs": [
    {
     "name": "stdout",
     "output_type": "stream",
     "text": [
      "0.696\n"
     ]
    }
   ],
   "source": [
    "#Q1\n",
    "from math import factorial\n",
    "\n",
    "#b,g = [float(i) for i in input().strip().split(' ')]\n",
    "b=1.09\n",
    "g=1\n",
    "#print(b,g)\n",
    "n=6\n",
    "\n",
    "p = b / (b+g) \n",
    "q = 1-p\n",
    "#print(p,q)\n",
    "b3 = factorial(n)/(factorial(3)*factorial(n-3))* p**3 * q**(n-3)\n",
    "b4 = factorial(n)/(factorial(4)*factorial(n-4))* p**4 * q**(n-4)\n",
    "b5 = factorial(n)/(factorial(5)*factorial(n-5))* p**5 * q**(n-5)\n",
    "b6 = factorial(n)/(factorial(6)*factorial(n-6))* p**6 * q**(n-6)\n",
    "print(round(b3+b4+b5+b6,3))"
   ]
  },
  {
   "cell_type": "code",
   "execution_count": 23,
   "metadata": {
    "scrolled": true
   },
   "outputs": [
    {
     "name": "stdout",
     "output_type": "stream",
     "text": [
      "12 10\n",
      "0.891\n",
      "0.342\n"
     ]
    }
   ],
   "source": [
    "#Q2\n",
    "from math import factorial\n",
    "def fact(n):\n",
    "    return 1 if n == 0 else n*fact(n-1)\n",
    "\n",
    "def comb(n, x):\n",
    "    return fact(n) / (fact(x) * fact(n-x))\n",
    "\n",
    "def b(x, n, p):\n",
    "    return comb(n, x) * p**x * (1-p)**(n-x)\n",
    "\n",
    "p, n = list(map(int, input().split(\" \")))\n",
    "print(round(sum([b(i, n, p/100) for i in range(3)]), 3))\n",
    "print(round(sum([b(i, n, p/100) for i in range(2, n+1)]), 3))"
   ]
  },
  {
   "cell_type": "code",
   "execution_count": 29,
   "metadata": {},
   "outputs": [
    {
     "name": "stdout",
     "output_type": "stream",
     "text": [
      "0.401\n",
      "0.341\n"
     ]
    }
   ],
   "source": [
    "#Q3\n",
    "mean = 20\n",
    "std = 2\n",
    "num = 19.5\n",
    "low = 20\n",
    "up = 22\n",
    "\n",
    "print(round(norm(loc = mean,scale = std).cdf(num),3))\n",
    "\n",
    "cdf_upper_limit = norm(loc = mean , scale = std).cdf(low)\n",
    "cdf_lower_limit = norm(loc = mean , scale = std).cdf(up)\n",
    "\n",
    "print(round(cdf_lower_limit-cdf_upper_limit,3))"
   ]
  },
  {
   "cell_type": "code",
   "execution_count": 6,
   "metadata": {},
   "outputs": [
    {
     "name": "stdout",
     "output_type": "stream",
     "text": [
      "15.87\n",
      "84.13\n",
      "15.87\n"
     ]
    }
   ],
   "source": [
    "#Q4\n",
    "from scipy.stats import norm\n",
    "mean = 70\n",
    "std = 10\n",
    "num_1 = 80\n",
    "num_2 = 60\n",
    "\n",
    "\n",
    "ans1 = norm(loc=mean,scale = std).cdf(num_1)\n",
    "ans1 = 1 - ans1\n",
    "\n",
    "ans3 = norm(loc=mean,scale = std).cdf(num_2)\n",
    "ans2 = 1 - ans3\n",
    "\n",
    "print(round(ans1*100,2))\n",
    "print(round(ans2*100,2))\n",
    "print(round(ans3*100,2))\n"
   ]
  },
  {
   "cell_type": "code",
   "execution_count": 7,
   "metadata": {},
   "outputs": [
    {
     "name": "stdout",
     "output_type": "stream",
     "text": [
      "9800\n",
      "49\n",
      "205\n",
      "15\n",
      "0.0098\n"
     ]
    }
   ],
   "source": [
    "#Q5\n",
    "import math\n",
    "x = int(input())\n",
    "n = int(input())\n",
    "mu = int(input())\n",
    "sigma = int(input())\n",
    "\n",
    "mu_sum = n * mu \n",
    "sigma_sum = math.sqrt(n) * sigma\n",
    "\n",
    "def cdf(x, mu, sigma):\n",
    "    Z = (x - mu)/sigma\n",
    "    return 0.5*(1 + math.erf(Z/(math.sqrt(2))))\n",
    "\n",
    "print(round(cdf(x, mu_sum, sigma_sum), 4))"
   ]
  },
  {
   "cell_type": "code",
   "execution_count": 9,
   "metadata": {},
   "outputs": [
    {
     "name": "stdout",
     "output_type": "stream",
     "text": [
      "250\n",
      "100\n",
      "2.4\n",
      "2.0\n",
      "0.6915\n"
     ]
    }
   ],
   "source": [
    "#Q6\n",
    "import math\n",
    "x = int(input())\n",
    "n = int(input())\n",
    "mu = float(input())\n",
    "sigma = float(input())\n",
    "\n",
    "mu_sum = n * mu \n",
    "sigma_sum = math.sqrt(n) * sigma\n",
    "\n",
    "def cdf(x, mu, sigma):\n",
    "    Z = (x - mu)/sigma\n",
    "    return 0.5*(1 + math.erf(Z/(math.sqrt(2))))\n",
    "\n",
    "print(round(cdf(x, mu_sum, sigma_sum), 4))"
   ]
  },
  {
   "cell_type": "code",
   "execution_count": 11,
   "metadata": {},
   "outputs": [
    {
     "name": "stdout",
     "output_type": "stream",
     "text": [
      "100\n",
      "500\n",
      "80\n",
      "0.95\n",
      "1.96\n",
      "484.32\n",
      "515.68\n"
     ]
    }
   ],
   "source": [
    "#Q7\n",
    "samples = float(input())\n",
    "mean = float(input())\n",
    "sd = float(input())\n",
    "interval = float(input())\n",
    "z = float (input())\n",
    "\n",
    "sd_sample = sd / (samples**0.5)\n",
    "print(round(mean - sd_sample*z,2))\n",
    "print(round(mean + sd_sample*z,2))"
   ]
  },
  {
   "cell_type": "code",
   "execution_count": 12,
   "metadata": {},
   "outputs": [
    {
     "name": "stdout",
     "output_type": "stream",
     "text": [
      "10\n",
      "10 9.8 8 7.8 7.7 7 6 5 4 2 \n",
      "200 44 32 24 22 17 15 12 8 4\n",
      "0.612\n"
     ]
    }
   ],
   "source": [
    "#Q9\n",
    "from scipy import stats\n",
    "n = int(input())\n",
    "a = list(map(float,input().split()))\n",
    "b = list(map(float,input().split()))\n",
    "\n",
    "correlation, p_value = stats.pearsonr(a,b)\n",
    "print(round(correlation,3))"
   ]
  },
  {
   "cell_type": "code",
   "execution_count": 14,
   "metadata": {},
   "outputs": [
    {
     "name": "stdout",
     "output_type": "stream",
     "text": [
      "78.288\n"
     ]
    }
   ],
   "source": [
    "#10\n",
    "from sklearn import linear_model\n",
    "import numpy as np\n",
    "xl = [95, 85, 80, 70, 60]\n",
    "x = np.asarray(xl).reshape(-1, 1)\n",
    "y = [85, 95, 70, 65, 70]\n",
    "lm = linear_model.LinearRegression()\n",
    "lm.fit(x, y)\n",
    "print('%0.3f' % (lm.intercept_ + 80.0 * lm.coef_[0]))"
   ]
  },
  {
   "cell_type": "code",
   "execution_count": null,
   "metadata": {},
   "outputs": [],
   "source": [
    "#Q11\n",
    "from sklearn import linear_model\n",
    "\n",
    "n,m = [int(i) for i in input().strip().split(' ')]\n",
    "\n",
    "x_arr = []\n",
    "y_arr = []\n",
    "#print(n,m)\n",
    "for i in range(m):\n",
    "    temp = [float(j) for j in input().strip().split(' ')]\n",
    "    y_arr.append(temp[-1])\n",
    "    x_arr.append(temp[0:-1])\n",
    "\n",
    "#print(x_arr)\n",
    "#print(y_arr)\n",
    "\n",
    "lm = linear_model.LinearRegression()\n",
    "lm.fit(x_arr, y_arr)\n",
    "a = lm.intercept_\n",
    "b = lm.coef_\n",
    "#print(a, b[0], b[1])\n",
    "\n",
    "q = int(input().strip())\n",
    "\n",
    "\n",
    "for i in range(q):\n",
    "    x_test = [float(j) for j in input().strip().split(' ')]\n",
    "    val = a\n",
    "    for j in range(n):\n",
    "        val += b[j]*x_test[j]\n",
    "    print(val)"
   ]
  },
  {
   "cell_type": "code",
   "execution_count": null,
   "metadata": {},
   "outputs": [],
   "source": []
  },
  {
   "cell_type": "code",
   "execution_count": null,
   "metadata": {},
   "outputs": [],
   "source": []
  }
 ],
 "metadata": {
  "kernelspec": {
   "display_name": "Python [conda env:py3.6-TF2.3]",
   "language": "python",
   "name": "conda-env-py3.6-TF2.3-py"
  },
  "language_info": {
   "codemirror_mode": {
    "name": "ipython",
    "version": 3
   },
   "file_extension": ".py",
   "mimetype": "text/x-python",
   "name": "python",
   "nbconvert_exporter": "python",
   "pygments_lexer": "ipython3",
   "version": "3.6.9"
  }
 },
 "nbformat": 4,
 "nbformat_minor": 2
}
