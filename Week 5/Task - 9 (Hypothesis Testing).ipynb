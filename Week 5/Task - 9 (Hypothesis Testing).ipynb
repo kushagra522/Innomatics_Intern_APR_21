{
 "cells": [
  {
   "cell_type": "code",
   "execution_count": 6,
   "metadata": {},
   "outputs": [],
   "source": [
    "import statistics as st\n",
    "from scipy.stats import t"
   ]
  },
  {
   "cell_type": "markdown",
   "metadata": {},
   "source": [
    "Q1.\n",
    "\n",
    "Null Hypothesis (Status Quo)          : $$ H_0:~~Each~parcel~packet~equal~to~500~grams~of~biryani. $$\n",
    "Alternate Hypothesis (Bold claim)     : $$ H_1:~~Each~parcel~packet~not~equal~to~500~grams~of~biryani. $$ \n",
    "\n",
    "Using <br>\n",
    "$$ t = \\frac{\\bar{x} - \\mu}{s/\\sqrt[2]{n}} $$"
   ]
  },
  {
   "cell_type": "code",
   "execution_count": 21,
   "metadata": {
    "scrolled": true
   },
   "outputs": [
    {
     "name": "stdout",
     "output_type": "stream",
     "text": [
      "Mean of data is : 465.3\n",
      "Std.deviation of data is : 86.84859110991829\n",
      "t-score value is : 1.263475128444671\n",
      "t_critical value is : 2.2621571627409915\n",
      "****************************************\n",
      "Failed to reject the null hypothesis\n",
      "****************************************\n"
     ]
    }
   ],
   "source": [
    "data = [490,220,470,500,495,496,496,498,508,480]\n",
    "\n",
    "n = 10 #No of observation\n",
    "\n",
    "x_bar = 500 #Given mean value\n",
    "\n",
    "mu = st.mean(data) #sample mean\n",
    "print(\"Mean of data is :\", mean)\n",
    "\n",
    "std = st.stdev(data) #sample std deviation\n",
    "print(\"Std.deviation of data is :\",std )\n",
    "\n",
    "t_score = (x_bar-mu)/(std/(n)**0.5) #tscore value\n",
    "print(\"t-score value is :\",t_score)\n",
    "\n",
    "confidence_level = 0.95\n",
    "alpha = 1- confidence_level\n",
    "\n",
    "t_critical = t.ppf(1-alpha/2,df = n-1)\n",
    "print(\"t_critical value is :\",t_critical)\n",
    "print(40*'*')\n",
    "if t_critical>t_score:\n",
    "    print(\"Failed to reject the null hypothesis\")\n",
    "else:\n",
    "    print(\"Reject Null Hypothesis\")\n",
    "print(40*'*')    "
   ]
  },
  {
   "cell_type": "markdown",
   "metadata": {},
   "source": [
    "### Conclusion : With 95% confidence level , each parcel packet of does  have 500 grams of biryani."
   ]
  },
  {
   "cell_type": "markdown",
   "metadata": {},
   "source": [
    "Q2\n",
    "Alternate Hypothesis (Bold claim): $$ H_1:~~average~rating~given~by~the~users~is~greater~than~4. $$\n",
    "Null Hypothesis (Status Quo)     : $$ H_0:~~average~rating~given~by~the~users~not~is~not~greater~than~or~equal~to~4. $$ \n",
    "\n",
    "Using <br>\n",
    "$$ t = \\frac{\\bar{x} - \\mu}{s/\\sqrt[2]{n}} $$"
   ]
  },
  {
   "cell_type": "code",
   "execution_count": 15,
   "metadata": {},
   "outputs": [
    {
     "name": "stdout",
     "output_type": "stream",
     "text": [
      "Mean of data is : 4.25\n",
      "Std.deviation of data is : 0.8506963092234007\n",
      "t-score value is : -0.9293203772845853\n",
      "t_critical value is : 1.8331129326536333\n",
      "****************************************\n",
      "Failed to reject the null hypothesis\n",
      "****************************************\n"
     ]
    }
   ],
   "source": [
    "data = [4,3,5,4,5,3,5,5,4,2,4,5,5,4,4,5,4,5,4,5]\n",
    "\n",
    "n = 10 #No of observation\n",
    "\n",
    "x_bar = 4 #Given mean value\n",
    "\n",
    "mu = st.mean(data) #sample mean\n",
    "print(\"Mean of data is :\", mu)\n",
    "\n",
    "std = st.stdev(data) #sample std deviation\n",
    "print(\"Std.deviation of data is :\",std )\n",
    "\n",
    "t_score = (x_bar-mu)/(std/((n)**0.5)) #tscore value\n",
    "print(\"t-score value is :\",t_score)\n",
    "\n",
    "confidence_level = 0.95\n",
    "alpha = 1- confidence_level\n",
    "\n",
    "t_critical = t.ppf(1-alpha,df = n-1)\n",
    "print(\"t_critical value is :\",t_critical)\n",
    "print(40*'*')\n",
    "if t_critical>t_score:\n",
    "    print(\"Failed to reject the null hypothesis\")\n",
    "else:\n",
    "    print(\"Reject Null Hypothesis\")\n",
    "print(40*'*')    "
   ]
  },
  {
   "cell_type": "markdown",
   "metadata": {},
   "source": [
    "### Conclusion : With 95 % confidence the average rating of user for NLP program is not greater than 4."
   ]
  },
  {
   "cell_type": "markdown",
   "metadata": {},
   "source": [
    "Q3\n",
    "Alternate Hypothesis (Bold claim): $$ H_1:~~avg>15 $$\n",
    "Null Hypothesis (Status Quo)     : $$ H_0:~~avg<=15. $$ \n",
    "\n",
    "Using <br>\n",
    "$$ t = \\frac{\\bar{x} - \\mu}{s/\\sqrt[2]{n}} $$"
   ]
  },
  {
   "cell_type": "code",
   "execution_count": 16,
   "metadata": {},
   "outputs": [
    {
     "name": "stdout",
     "output_type": "stream",
     "text": [
      "Mean of data is : 15.099\n",
      "Std.deviation of data is : 1.0253671999517258\n",
      "t-score value is : -0.3053203655933302\n",
      "t_critical value is : 1.8331129326536333\n",
      "****************************************\n",
      "Failed to reject the null hypothesis\n",
      "****************************************\n"
     ]
    }
   ],
   "source": [
    "data = [14.08,14.13,15.65,13.78,16.26,14.97,15.36,15.81,14.53,16.79,15.78,16.98,13.23,15.43,15.46,13.88,14.31,14.41,15.76,15.38]\n",
    "\n",
    "\n",
    "n = 10 #No of observation\n",
    "\n",
    "x_bar = 15 #Given mean value\n",
    "\n",
    "mu = st.mean(data) #sample mean\n",
    "print(\"Mean of data is :\", mu)\n",
    "\n",
    "std = st.stdev(data) #sample std deviation\n",
    "print(\"Std.deviation of data is :\",std )\n",
    "\n",
    "t_score = (x_bar-mu)/(std/((n)**0.5)) #tscore value\n",
    "print(\"t-score value is :\",t_score)\n",
    "\n",
    "confidence_level = 0.95\n",
    "alpha = 1- confidence_level\n",
    "\n",
    "t_critical = t.ppf(1-alpha,df = n-1)\n",
    "print(\"t_critical value is :\",t_critical)\n",
    "print(40*'*')\n",
    "if t_critical>t_score:\n",
    "    print(\"Failed to reject the null hypothesis\")\n",
    "else:\n",
    "    print(\"Reject Null Hypothesis\")\n",
    "print(40*'*')    "
   ]
  },
  {
   "cell_type": "markdown",
   "metadata": {},
   "source": [
    "### Conclusion : The Tata fuel managment failed , and with 95% confidence we can say that the average of the SUV's is still coming less than or equal to 15."
   ]
  },
  {
   "cell_type": "markdown",
   "metadata": {},
   "source": [
    "Q4\n",
    "Alternate Hypothesis (Bold claim): $$ H_1:~~avg<100. $$\n",
    "Null Hypothesis (Status Quo)     : $$ H_0:~~avg>=100. $$ \n",
    "\n",
    "Using <br>\n",
    "$$ t = \\frac{\\bar{x} - \\mu}{s/\\sqrt[2]{n}} $$"
   ]
  },
  {
   "cell_type": "code",
   "execution_count": 19,
   "metadata": {},
   "outputs": [
    {
     "name": "stdout",
     "output_type": "stream",
     "text": [
      "Mean of data is : 97.5\n",
      "Std.deviation of data is : 1.0253671999517258\n",
      "t-score value is : 24.381509376520917\n",
      "t_critical value is : 1.6603911559963895\n",
      "****************************************\n",
      "Reject Null Hypothesis\n",
      "****************************************\n"
     ]
    }
   ],
   "source": [
    "n = 100 #No of observation\n",
    "\n",
    "x_bar = 100 #Given mean value\n",
    "\n",
    "mu = 97.5 #sample mean\n",
    "print(\"Mean of data is :\", mu)\n",
    "\n",
    "std = st.stdev(data) #sample std deviation\n",
    "print(\"Std.deviation of data is :\",std )\n",
    "\n",
    "t_score = (x_bar-mu)/(std/((n)**0.5)) #tscore value\n",
    "print(\"t-score value is :\",t_score)\n",
    "\n",
    "confidence_level = 0.95\n",
    "alpha = 1- confidence_level\n",
    "\n",
    "t_critical = t.ppf(1-alpha,df = n-1)\n",
    "print(\"t_critical value is :\",t_critical)\n",
    "print(40*'*')\n",
    "if t_critical>t_score:\n",
    "    print(\"Failed to reject the null hypothesis\")\n",
    "else:\n",
    "    print(\"Reject Null Hypothesis\")\n",
    "print(40*'*')    "
   ]
  },
  {
   "cell_type": "markdown",
   "metadata": {},
   "source": [
    "### Conclusion : With 95% we can conclude that our ML model takes on avg less than 100 ms to complete the task."
   ]
  },
  {
   "cell_type": "code",
   "execution_count": null,
   "metadata": {},
   "outputs": [],
   "source": []
  }
 ],
 "metadata": {
  "kernelspec": {
   "display_name": "Python [conda env:py3.6-TF2.3]",
   "language": "python",
   "name": "conda-env-py3.6-TF2.3-py"
  },
  "language_info": {
   "codemirror_mode": {
    "name": "ipython",
    "version": 3
   },
   "file_extension": ".py",
   "mimetype": "text/x-python",
   "name": "python",
   "nbconvert_exporter": "python",
   "pygments_lexer": "ipython3",
   "version": "3.6.9"
  }
 },
 "nbformat": 4,
 "nbformat_minor": 2
}
