{
 "cells": [
  {
   "cell_type": "code",
   "execution_count": 10,
   "metadata": {
    "hideCode": false,
    "hidePrompt": false
   },
   "outputs": [
    {
     "name": "stdout",
     "output_type": "stream",
     "text": [
      "3 2\n",
      "1 5 3\n",
      "3 1\n",
      "5 7\n",
      "1\n"
     ]
    }
   ],
   "source": [
    "#Q1 \n",
    "# Enter your code here. Read input from STDIN. Print output to STDOUT\n",
    "def no_idea(arr,A,B,m,n):\n",
    "    count = 0\n",
    "    for i in arr:\n",
    "        if i in A:\n",
    "            count+=1\n",
    "        elif i in B:\n",
    "            count-=1    \n",
    "    return count                \n",
    "        \n",
    "\n",
    "\n",
    "if __name__=='__main__':\n",
    "    n,m = map(int, input().split(\" \"))\n",
    "    arr = list(map(int, input().split(\" \")))\n",
    "    A = set(map(int, input().split(\" \")))\n",
    "    B = set(map(int, input().split(\" \")))\n",
    "    \n",
    "    print(no_idea(arr,A,B,m,n))\n",
    "    \n",
    "\n",
    "        "
   ]
  },
  {
   "cell_type": "code",
   "execution_count": 6,
   "metadata": {
    "hideCode": false,
    "hidePrompt": false
   },
   "outputs": [
    {
     "name": "stdout",
     "output_type": "stream",
     "text": [
      "3\n",
      "2\n",
      "2\n",
      "5\n",
      "[[0, 0, 0], [0, 0, 1], [0, 0, 2], [0, 1, 0], [0, 1, 1], [0, 1, 2], [0, 2, 0], [0, 2, 1], [0, 2, 2], [1, 0, 0], [1, 0, 1], [1, 0, 2], [1, 1, 0], [1, 1, 1], [1, 1, 2], [1, 2, 0], [1, 2, 1], [2, 0, 0], [2, 0, 1], [2, 0, 2], [2, 1, 0], [2, 1, 1], [2, 2, 0], [2, 2, 2], [3, 0, 0], [3, 0, 1], [3, 1, 0], [3, 1, 2], [3, 2, 1], [3, 2, 2]]\n"
     ]
    }
   ],
   "source": [
    "#Q2\n",
    "if __name__ == '__main__':\n",
    "    x = int(input())\n",
    "    y = int(input())\n",
    "    z = int(input())\n",
    "    n = int(input())\n",
    "    \n",
    "\n",
    "arr = [[X,Y,Z] for X in range(x+1) for Y in range(y+1) for Z in range(z+1) if X+Y+Z!=n]  \n",
    "print(arr)  \n",
    "    \n"
   ]
  },
  {
   "cell_type": "code",
   "execution_count": 5,
   "metadata": {
    "hideCode": false,
    "hidePrompt": false
   },
   "outputs": [
    {
     "name": "stdout",
     "output_type": "stream",
     "text": [
      "4\n",
      "5 4 7 9\n",
      "7\n"
     ]
    }
   ],
   "source": [
    "#Q3\n",
    "def runnerup(arr):\n",
    "    maxi = arr[0]\n",
    "    s_max = float('-inf')\n",
    "    for i in range(len(arr)):\n",
    "        if arr[i]>maxi:\n",
    "            maxi = arr[i]\n",
    "    for j in range(len(arr)):\n",
    "        if arr[j]<maxi and arr[j]>s_max:\n",
    "            s_max = arr[j]\n",
    "    print(s_max)\n",
    "                \n",
    "        \n",
    "\n",
    "\n",
    "if __name__ == '__main__':\n",
    "    n = int(input())\n",
    "    arr = list(map(int, input().split()))\n",
    "    runnerup(arr)\n",
    "    "
   ]
  },
  {
   "cell_type": "code",
   "execution_count": 47,
   "metadata": {
    "hideCode": false,
    "hidePrompt": false
   },
   "outputs": [
    {
     "name": "stdout",
     "output_type": "stream",
     "text": [
      "3\n",
      "Harsh\n",
      "24\n",
      "Wardhan\n",
      "55\n",
      "Binod\n",
      "24\n",
      "Wardhan\n"
     ]
    }
   ],
   "source": [
    "#Q4\n",
    "def second_lowests(grades):\n",
    "    grades = iter(grades)\n",
    "    lname, lowest = next(grades)\n",
    "    slname, slowest = next(grades)\n",
    "    if slowest < lowest:\n",
    "        lowest, slowest = slowest, lowest\n",
    "        names = [lname]\n",
    "    elif slowest == lowest: \n",
    "        names = [lname, slname]\n",
    "    else:\n",
    "        names = [slname]\n",
    "\n",
    "    for name, score in grades:\n",
    "        if score == slowest:\n",
    "            names.append(name)\n",
    "            continue\n",
    "        if score == lowest:\n",
    "            continue\n",
    "        if score < lowest:\n",
    "            if slowest == lowest:\n",
    "                pass\n",
    "            else:\n",
    "                names = [lname]\n",
    "            lowest, slowest = score, lowest\n",
    "            lname = name\n",
    "        elif score < slowest:\n",
    "            slowest = score\n",
    "            names = [name]\n",
    "        elif score > slowest and slowest == lowest:\n",
    "            slowest = score\n",
    "            names = [name]\n",
    "\n",
    "    if slowest == lowest: # all have same score\n",
    "        return []\n",
    "    names.sort()\n",
    "    return names\n",
    "\n",
    "\n",
    "if __name__ == '__main__':\n",
    "    nested_list = []\n",
    "    for _ in range(int(input())):\n",
    "        name = input()\n",
    "        score = float(input())\n",
    "        nested_list.append([name, score])\n",
    "        \n",
    "    assert 2 <= len(nested_list) <= 5\n",
    "    print (\"\\n\".join(second_lowests(nested_list)))"
   ]
  },
  {
   "cell_type": "code",
   "execution_count": 50,
   "metadata": {
    "hideCode": false,
    "hidePrompt": false
   },
   "outputs": [
    {
     "name": "stdout",
     "output_type": "stream",
     "text": [
      "2\n",
      "Harsh 25 26.5 28\n",
      "Anurag 26 28 30\n",
      "Harsh\n",
      "26.50\n"
     ]
    }
   ],
   "source": [
    "#Q5\n",
    "if __name__ == '__main__':\n",
    "    n = int(input())\n",
    "    a={}\n",
    "    s=0\n",
    "    student_marks = {}\n",
    "    for _ in range(n):\n",
    "        name, *line = input().split()\n",
    "        scores = list(map(float, line))\n",
    "        student_marks[name] = scores\n",
    "        a[name] = scores\n",
    "    query_name = input()\n",
    "for i in a[query_name]:\n",
    "    s=s+i\n",
    "k=float(s/3)    \n",
    "print(\"{:.2f}\".format(k))"
   ]
  },
  {
   "cell_type": "code",
   "execution_count": 59,
   "metadata": {
    "hideCode": false,
    "hidePrompt": false
   },
   "outputs": [
    {
     "name": "stdout",
     "output_type": "stream",
     "text": [
      "4\n",
      "2 4 5 9\n",
      "4\n",
      "2 4 11 12\n",
      "5\n",
      "9\n",
      "11\n",
      "12\n"
     ]
    }
   ],
   "source": [
    "#Q6\n",
    "# Enter your code here. Read input from STDIN. Print output to STDOUT\n",
    "if __name__=='__main__':\n",
    "    n = int(input())\n",
    "    A = set(list(map(int, input().split(\" \"))))\n",
    "    m = int(input())\n",
    "    B = set(list(map(int, input().split(\" \"))))\n",
    "    \n",
    "    sym_diff = []\n",
    "    sym_diff.append(list(A.difference(B)))\n",
    "    sym_diff.append(list(B.difference(A)))\n",
    "    flat = [item for sublist in sym_diff for item in sublist]\n",
    "    flat.sort()\n",
    "    for i in flat:\n",
    "        print(i)\n",
    "        "
   ]
  },
  {
   "cell_type": "code",
   "execution_count": 72,
   "metadata": {},
   "outputs": [
    {
     "name": "stdout",
     "output_type": "stream",
     "text": [
      "3\n",
      "USA\n",
      "INDIA\n",
      "USA\n",
      "2\n"
     ]
    }
   ],
   "source": [
    "#Q7\n",
    "s = set()\n",
    "for _ in range(int(input())):\n",
    "    s.add(input())\n",
    "\n",
    "s = list(s)\n",
    "print(len(s))    "
   ]
  },
  {
   "cell_type": "code",
   "execution_count": null,
   "metadata": {},
   "outputs": [],
   "source": [
    "#Q8\n",
    "n = int(input())\n",
    "s = set(map(int, input().split()))\n",
    "m = int(input())\n",
    "\n",
    "\n",
    "for i in range(m):\n",
    "    p=input().split()\n",
    "    if p[0]==\"remove\":\n",
    "        s.remove(int(p[1]))\n",
    "    elif p[0]==\"discard\":\n",
    "        s.discard(int(p[1]))\n",
    "    else:\n",
    "        s.pop()\n",
    "s = list(s)  \n",
    "print(sum(s))        "
   ]
  },
  {
   "cell_type": "code",
   "execution_count": 82,
   "metadata": {},
   "outputs": [
    {
     "name": "stdout",
     "output_type": "stream",
     "text": [
      "9\n",
      "1 2 3 4 5 6 7 8 9\n",
      "9\n",
      "10 1 2 3 11 21 55 6 8\n"
     ]
    }
   ],
   "source": [
    "#Q9\n",
    "n = int(input())\n",
    "r1 = set(map(int,input().split(\" \")))\n",
    "m = int(input())\n",
    "r2 = set(map(int,input().split(\" \")))\n",
    "r1 = r1.union(r2)\n",
    "r1 = list(r1)\n",
    "print(len(r1))"
   ]
  },
  {
   "cell_type": "code",
   "execution_count": 86,
   "metadata": {},
   "outputs": [
    {
     "name": "stdout",
     "output_type": "stream",
     "text": [
      "5\n",
      "1 5 7 8 4\n",
      "4\n",
      "1 5 9 10\n",
      "2\n"
     ]
    }
   ],
   "source": [
    "#Q10\n",
    "n = int(input())\n",
    "r1 = set(map(int,input().split(\" \")))\n",
    "m = int(input())\n",
    "r2 = set(map(int,input().split(\" \")))\n",
    "r1 = r1.intersection(r2)\n",
    "r1 = list(r1)\n",
    "print(len(r1))"
   ]
  },
  {
   "cell_type": "code",
   "execution_count": 87,
   "metadata": {},
   "outputs": [
    {
     "name": "stdout",
     "output_type": "stream",
     "text": [
      "5\n",
      "1 5 7 8 4\n",
      "4 \n",
      "1 5 9 10\n",
      "3\n"
     ]
    }
   ],
   "source": [
    "#Q11\n",
    "n = int(input())\n",
    "r1 = set(map(int,input().split(\" \")))\n",
    "m = int(input())\n",
    "r2 = set(map(int,input().split(\" \")))\n",
    "r1 = r1.difference(r2)\n",
    "r1 = list(r1)\n",
    "print(len(r1))"
   ]
  },
  {
   "cell_type": "code",
   "execution_count": 89,
   "metadata": {},
   "outputs": [
    {
     "name": "stdout",
     "output_type": "stream",
     "text": [
      "5\n",
      "1 5 7 8 4\n",
      "4 \n",
      "1 5 9 10\n",
      "5\n"
     ]
    }
   ],
   "source": [
    "#Q12\n",
    "n = int(input())\n",
    "r1 = set(map(int,input().split(\" \")))\n",
    "m = int(input())\n",
    "r2 = set(map(int,input().split(\" \")))\n",
    "r1 = r1.symmetric_difference(r2)\n",
    "r1 = list(r1)\n",
    "print(len(r1))"
   ]
  },
  {
   "cell_type": "code",
   "execution_count": null,
   "metadata": {},
   "outputs": [],
   "source": [
    "#Q13\n",
    "length=int(raw_input())\n",
    "s=set(map(int, raw_input().split()))\n",
    "N=int(raw_input())\n",
    "\n",
    "for i in range(N):\n",
    "    (p, q)=raw_input().split()\n",
    "    s2=set(map(int, raw_input().split()))\n",
    "    if p=='intersection_update':\n",
    "        s.intersection_update(s2)\n",
    "    elif p=='update':\n",
    "        s.update(s2)\n",
    "    elif p=='symmetric_difference_update':\n",
    "        s.symmetric_difference_update(s2)\n",
    "    elif p=='difference_update':\n",
    "        s.difference_update(s2)\n",
    "print sum(s)"
   ]
  },
  {
   "cell_type": "code",
   "execution_count": 99,
   "metadata": {},
   "outputs": [
    {
     "name": "stdout",
     "output_type": "stream",
     "text": [
      "8\n"
     ]
    }
   ],
   "source": [
    "#Q14\n",
    "import collections\n",
    "\n",
    "elements_count = collections.Counter(room)\n",
    "\n",
    "for key, value in elements_count.items():\n",
    "    if value==1:\n",
    "        print(key)\n"
   ]
  },
  {
   "cell_type": "code",
   "execution_count": null,
   "metadata": {
    "scrolled": true
   },
   "outputs": [],
   "source": [
    "#Q15\n",
    "for i in range(int(input())): \n",
    "    m = int(input()); A = set(input().split()); \n",
    "    n = int(input()); B = set(input().split());\n",
    "    print(A <= B)"
   ]
  },
  {
   "cell_type": "code",
   "execution_count": 122,
   "metadata": {},
   "outputs": [
    {
     "name": "stdout",
     "output_type": "stream",
     "text": [
      "1 2 3 4 5 6 7 8 9 10 11 12 23 45 84 78\n",
      "2\n",
      "1 2 3 4 5\n",
      "100 11 12\n",
      "False\n"
     ]
    }
   ],
   "source": [
    "#Q16\n",
    "A = set(map(int,input().split(\" \")))\n",
    "n = int(input())\n",
    "val = []\n",
    "for _ in range(n):\n",
    "    p = set()\n",
    "    p = set(map(int,input().split(\" \")))\n",
    "    if A.intersection(p)==p:\n",
    "        val.append(True)\n",
    "    else:\n",
    "        val.append(False)    \n",
    "        \n",
    "if False in val:\n",
    "    print(False)\n",
    "else:\n",
    "    print(True)            \n",
    "    "
   ]
  },
  {
   "cell_type": "code",
   "execution_count": null,
   "metadata": {},
   "outputs": [],
   "source": [
    "#Q17\n",
    "  \n",
    "arr = []\n",
    "for i in range(int(input())):\n",
    "    s = input().split()\n",
    "    for i in range(1,len(s)):\n",
    "        s[i] = int(s[i])\n",
    "        \n",
    "    if s[0] == \"append\":\n",
    "        arr.append(s[1])\n",
    "    elif s[0] == \"extend\":    \n",
    "        arr.extend(s[1:])\n",
    "    elif s[0] == \"insert\":\n",
    "        arr.insert(s[1],s[2])\n",
    "    elif s[0] == \"remove\":\n",
    "        arr.remove(s[1])\n",
    "    elif s[0] == \"pop\":\n",
    "        arr.pop()\n",
    "    elif s[0] == \"index\":\n",
    "        print (arr.index(s[1]))\n",
    "    elif s[0] == \"count\":\n",
    "        print (arr.count(s[1]))\n",
    "    elif s[0] == \"sort\":\n",
    "        arr.sort()\n",
    "    elif s[0] == \"reverse\":\n",
    "        arr.reverse()\n",
    "    elif s[0] == \"print\":\n",
    "        print (arr)\n"
   ]
  },
  {
   "cell_type": "code",
   "execution_count": 123,
   "metadata": {},
   "outputs": [
    {
     "name": "stdout",
     "output_type": "stream",
     "text": [
      "2\n",
      "1 2\n",
      "3713081631934410656\n"
     ]
    }
   ],
   "source": [
    "#Q18\n",
    "if __name__ == '__main__':\n",
    "    n = int(input())\n",
    "    integer_list = map(int, input().split())\n",
    "    \n",
    "    print(hash(tuple(integer_list))) "
   ]
  },
  {
   "cell_type": "code",
   "execution_count": null,
   "metadata": {},
   "outputs": [],
   "source": []
  }
 ],
 "metadata": {
  "hide_code_all_hidden": false,
  "kernelspec": {
   "display_name": "Python [conda env:TF-gpu]",
   "language": "python",
   "name": "conda-env-TF-gpu-py"
  },
  "language_info": {
   "codemirror_mode": {
    "name": "ipython",
    "version": 3
   },
   "file_extension": ".py",
   "mimetype": "text/x-python",
   "name": "python",
   "nbconvert_exporter": "python",
   "pygments_lexer": "ipython3",
   "version": "3.6.12"
  }
 },
 "nbformat": 4,
 "nbformat_minor": 2
}
