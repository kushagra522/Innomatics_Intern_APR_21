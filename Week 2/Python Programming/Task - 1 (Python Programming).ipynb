{
 "cells": [
  {
   "cell_type": "code",
   "execution_count": 1,
   "metadata": {},
   "outputs": [
    {
     "name": "stdout",
     "output_type": "stream",
     "text": [
      "Hello, World!\n"
     ]
    }
   ],
   "source": [
    "#Question no.1\n",
    "print(\"Hello, World!\")"
   ]
  },
  {
   "cell_type": "code",
   "execution_count": 2,
   "metadata": {},
   "outputs": [
    {
     "name": "stdout",
     "output_type": "stream",
     "text": [
      "5\n",
      "Weird\n"
     ]
    }
   ],
   "source": [
    "#Question 2\n",
    "\n",
    "n = int(input().strip())\n",
    "    \n",
    "if n%2!= 0:\n",
    "    print(\"Weird\")\n",
    "else:\n",
    "    if n>=2 and n<=5:\n",
    "        print(\"Not Weird\")\n",
    "    elif n>=6 and n<=20:\n",
    "        print(\"Weird\")\n",
    "    else:\n",
    "        print(\"Not Weird\") "
   ]
  },
  {
   "cell_type": "code",
   "execution_count": 4,
   "metadata": {},
   "outputs": [
    {
     "name": "stdout",
     "output_type": "stream",
     "text": [
      "2\n",
      "5\n",
      "7\n",
      "-3\n",
      "10\n"
     ]
    }
   ],
   "source": [
    "#Question 3\n",
    "\n",
    "a = int(input())\n",
    "b = int(input())\n",
    "    \n",
    "print(a+b)\n",
    "print(a-b)\n",
    "print(a*b)    \n",
    "    "
   ]
  },
  {
   "cell_type": "code",
   "execution_count": 5,
   "metadata": {},
   "outputs": [
    {
     "name": "stdout",
     "output_type": "stream",
     "text": [
      "20\n",
      "5\n",
      "4\n",
      "4.0\n"
     ]
    }
   ],
   "source": [
    "#Question 4\n",
    "\n",
    "a = int(input())\n",
    "b = int(input())\n",
    "    \n",
    "print(a//b)\n",
    "print(a/b)    "
   ]
  },
  {
   "cell_type": "code",
   "execution_count": 6,
   "metadata": {},
   "outputs": [
    {
     "name": "stdout",
     "output_type": "stream",
     "text": [
      "5\n",
      "0\n",
      "1\n",
      "4\n",
      "9\n",
      "16\n"
     ]
    }
   ],
   "source": [
    "#Question 5\n",
    "\n",
    "n = int(input())\n",
    "    \n",
    "for i in range(n):\n",
    "    print(i**2)    \n",
    "    "
   ]
  },
  {
   "cell_type": "code",
   "execution_count": 7,
   "metadata": {},
   "outputs": [
    {
     "name": "stdout",
     "output_type": "stream",
     "text": [
      "2020\n",
      "True\n"
     ]
    }
   ],
   "source": [
    "#Question 6\n",
    "def is_leap(year):\n",
    "    leap = False\n",
    "    if year%400==0:\n",
    "        leap = True\n",
    "        return leap\n",
    "    elif year%100!=0 and year%4==0:\n",
    "        leap = True\n",
    "          \n",
    "        \n",
    "    # Write your logic here\n",
    "    \n",
    "    return leap\n",
    "\n",
    "year = int(input())\n",
    "print(is_leap(year))"
   ]
  },
  {
   "cell_type": "code",
   "execution_count": 8,
   "metadata": {},
   "outputs": [
    {
     "name": "stdout",
     "output_type": "stream",
     "text": [
      "5\n",
      "12345"
     ]
    }
   ],
   "source": [
    "#Question 7\n",
    "n = int(input())\n",
    "    \n",
    "for i in range(1,n+1):\n",
    "    print(str(i),end=\"\")    "
   ]
  },
  {
   "cell_type": "code",
   "execution_count": null,
   "metadata": {},
   "outputs": [],
   "source": []
  }
 ],
 "metadata": {
  "kernelspec": {
   "display_name": "Python [conda env:py3.6-TF2.3]",
   "language": "python",
   "name": "conda-env-py3.6-TF2.3-py"
  },
  "language_info": {
   "codemirror_mode": {
    "name": "ipython",
    "version": 3
   },
   "file_extension": ".py",
   "mimetype": "text/x-python",
   "name": "python",
   "nbconvert_exporter": "python",
   "pygments_lexer": "ipython3",
   "version": "3.6.9"
  }
 },
 "nbformat": 4,
 "nbformat_minor": 2
}
